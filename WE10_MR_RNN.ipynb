{
 "cells": [
  {
   "cell_type": "markdown",
   "metadata": {},
   "source": [
    "# Tutorial 2 - RNN Time Series\n",
    "\n",
    "In this notebook, we will predict the stock market for Amazon"
   ]
  },
  {
   "cell_type": "markdown",
   "metadata": {
    "tags": []
   },
   "source": [
    "## https://finance.yahoo.com/quote/AMZN/history?period1=1669334400&period2=1682035200&interval=1d&filter=history&frequency=1d&includeAdjustedClose=true"
   ]
  },
  {
   "cell_type": "code",
   "execution_count": 1,
   "metadata": {},
   "outputs": [],
   "source": [
    "import tensorflow as tf\n",
    "from tensorflow import keras\n",
    "from sklearn.metrics import mean_squared_error\n",
    "\n",
    "\n",
    "# Common imports\n",
    "import numpy as np\n",
    "import os\n",
    "\n",
    "# to make this notebook's output stable across runs\n",
    "np.random.seed(42)\n",
    "\n",
    "# To plot pretty figures\n",
    "%matplotlib inline\n",
    "import matplotlib as mpl\n",
    "import matplotlib.pyplot as plt\n",
    "mpl.rc('axes', labelsize=14)\n",
    "mpl.rc('xtick', labelsize=12)\n",
    "mpl.rc('ytick', labelsize=12)"
   ]
  },
  {
   "cell_type": "markdown",
   "metadata": {},
   "source": [
    "# Read the Dataset"
   ]
  },
  {
   "cell_type": "code",
   "execution_count": 2,
   "metadata": {},
   "outputs": [
    {
     "data": {
      "text/html": [
       "<div>\n",
       "<style scoped>\n",
       "    .dataframe tbody tr th:only-of-type {\n",
       "        vertical-align: middle;\n",
       "    }\n",
       "\n",
       "    .dataframe tbody tr th {\n",
       "        vertical-align: top;\n",
       "    }\n",
       "\n",
       "    .dataframe thead th {\n",
       "        text-align: right;\n",
       "    }\n",
       "</style>\n",
       "<table border=\"1\" class=\"dataframe\">\n",
       "  <thead>\n",
       "    <tr style=\"text-align: right;\">\n",
       "      <th></th>\n",
       "      <th>Date</th>\n",
       "      <th>Open</th>\n",
       "      <th>High</th>\n",
       "      <th>Low</th>\n",
       "      <th>Close</th>\n",
       "      <th>Adj Close</th>\n",
       "      <th>Volume</th>\n",
       "    </tr>\n",
       "  </thead>\n",
       "  <tbody>\n",
       "    <tr>\n",
       "      <th>0</th>\n",
       "      <td>11/25/22</td>\n",
       "      <td>93.790001</td>\n",
       "      <td>94.430000</td>\n",
       "      <td>93.070000</td>\n",
       "      <td>93.410004</td>\n",
       "      <td>93.410004</td>\n",
       "      <td>35088600</td>\n",
       "    </tr>\n",
       "    <tr>\n",
       "      <th>1</th>\n",
       "      <td>11/28/22</td>\n",
       "      <td>93.930000</td>\n",
       "      <td>96.400002</td>\n",
       "      <td>93.430000</td>\n",
       "      <td>93.949997</td>\n",
       "      <td>93.949997</td>\n",
       "      <td>74943100</td>\n",
       "    </tr>\n",
       "    <tr>\n",
       "      <th>2</th>\n",
       "      <td>11/29/22</td>\n",
       "      <td>94.040001</td>\n",
       "      <td>94.410004</td>\n",
       "      <td>91.440002</td>\n",
       "      <td>92.419998</td>\n",
       "      <td>92.419998</td>\n",
       "      <td>65567300</td>\n",
       "    </tr>\n",
       "    <tr>\n",
       "      <th>3</th>\n",
       "      <td>11/30/22</td>\n",
       "      <td>92.470001</td>\n",
       "      <td>96.540001</td>\n",
       "      <td>91.529999</td>\n",
       "      <td>96.540001</td>\n",
       "      <td>96.540001</td>\n",
       "      <td>102805800</td>\n",
       "    </tr>\n",
       "    <tr>\n",
       "      <th>4</th>\n",
       "      <td>12/1/22</td>\n",
       "      <td>96.989998</td>\n",
       "      <td>97.230003</td>\n",
       "      <td>94.919998</td>\n",
       "      <td>95.500000</td>\n",
       "      <td>95.500000</td>\n",
       "      <td>68488000</td>\n",
       "    </tr>\n",
       "  </tbody>\n",
       "</table>\n",
       "</div>"
      ],
      "text/plain": [
       "       Date       Open       High        Low      Close  Adj Close     Volume\n",
       "0  11/25/22  93.790001  94.430000  93.070000  93.410004  93.410004   35088600\n",
       "1  11/28/22  93.930000  96.400002  93.430000  93.949997  93.949997   74943100\n",
       "2  11/29/22  94.040001  94.410004  91.440002  92.419998  92.419998   65567300\n",
       "3  11/30/22  92.470001  96.540001  91.529999  96.540001  96.540001  102805800\n",
       "4   12/1/22  96.989998  97.230003  94.919998  95.500000  95.500000   68488000"
      ]
     },
     "execution_count": 2,
     "metadata": {},
     "output_type": "execute_result"
    }
   ],
   "source": [
    "import pandas as pd\n",
    "\n",
    "amazon = pd.read_csv('amazon.csv')\n",
    "\n",
    "amazon.head()"
   ]
  },
  {
   "cell_type": "code",
   "execution_count": 3,
   "metadata": {},
   "outputs": [
    {
     "data": {
      "text/html": [
       "<div>\n",
       "<style scoped>\n",
       "    .dataframe tbody tr th:only-of-type {\n",
       "        vertical-align: middle;\n",
       "    }\n",
       "\n",
       "    .dataframe tbody tr th {\n",
       "        vertical-align: top;\n",
       "    }\n",
       "\n",
       "    .dataframe thead th {\n",
       "        text-align: right;\n",
       "    }\n",
       "</style>\n",
       "<table border=\"1\" class=\"dataframe\">\n",
       "  <thead>\n",
       "    <tr style=\"text-align: right;\">\n",
       "      <th></th>\n",
       "      <th>Date</th>\n",
       "      <th>Open</th>\n",
       "      <th>High</th>\n",
       "      <th>Low</th>\n",
       "      <th>Close</th>\n",
       "      <th>Adj Close</th>\n",
       "      <th>Volume</th>\n",
       "    </tr>\n",
       "  </thead>\n",
       "  <tbody>\n",
       "    <tr>\n",
       "      <th>0</th>\n",
       "      <td>11/25/22</td>\n",
       "      <td>93.790001</td>\n",
       "      <td>94.430000</td>\n",
       "      <td>93.070000</td>\n",
       "      <td>93.410004</td>\n",
       "      <td>93.410004</td>\n",
       "      <td>35088600</td>\n",
       "    </tr>\n",
       "    <tr>\n",
       "      <th>1</th>\n",
       "      <td>11/28/22</td>\n",
       "      <td>93.930000</td>\n",
       "      <td>96.400002</td>\n",
       "      <td>93.430000</td>\n",
       "      <td>93.949997</td>\n",
       "      <td>93.949997</td>\n",
       "      <td>74943100</td>\n",
       "    </tr>\n",
       "    <tr>\n",
       "      <th>2</th>\n",
       "      <td>11/29/22</td>\n",
       "      <td>94.040001</td>\n",
       "      <td>94.410004</td>\n",
       "      <td>91.440002</td>\n",
       "      <td>92.419998</td>\n",
       "      <td>92.419998</td>\n",
       "      <td>65567300</td>\n",
       "    </tr>\n",
       "    <tr>\n",
       "      <th>3</th>\n",
       "      <td>11/30/22</td>\n",
       "      <td>92.470001</td>\n",
       "      <td>96.540001</td>\n",
       "      <td>91.529999</td>\n",
       "      <td>96.540001</td>\n",
       "      <td>96.540001</td>\n",
       "      <td>102805800</td>\n",
       "    </tr>\n",
       "    <tr>\n",
       "      <th>4</th>\n",
       "      <td>12/1/22</td>\n",
       "      <td>96.989998</td>\n",
       "      <td>97.230003</td>\n",
       "      <td>94.919998</td>\n",
       "      <td>95.500000</td>\n",
       "      <td>95.500000</td>\n",
       "      <td>68488000</td>\n",
       "    </tr>\n",
       "    <tr>\n",
       "      <th>...</th>\n",
       "      <td>...</td>\n",
       "      <td>...</td>\n",
       "      <td>...</td>\n",
       "      <td>...</td>\n",
       "      <td>...</td>\n",
       "      <td>...</td>\n",
       "      <td>...</td>\n",
       "    </tr>\n",
       "    <tr>\n",
       "      <th>95</th>\n",
       "      <td>4/14/23</td>\n",
       "      <td>102.070000</td>\n",
       "      <td>103.199997</td>\n",
       "      <td>101.110001</td>\n",
       "      <td>102.510002</td>\n",
       "      <td>102.510002</td>\n",
       "      <td>51388300</td>\n",
       "    </tr>\n",
       "    <tr>\n",
       "      <th>96</th>\n",
       "      <td>4/17/23</td>\n",
       "      <td>103.160004</td>\n",
       "      <td>103.730003</td>\n",
       "      <td>101.589996</td>\n",
       "      <td>102.739998</td>\n",
       "      <td>102.739998</td>\n",
       "      <td>39919500</td>\n",
       "    </tr>\n",
       "    <tr>\n",
       "      <th>97</th>\n",
       "      <td>4/18/23</td>\n",
       "      <td>103.949997</td>\n",
       "      <td>104.199997</td>\n",
       "      <td>101.519997</td>\n",
       "      <td>102.300003</td>\n",
       "      <td>102.300003</td>\n",
       "      <td>39790500</td>\n",
       "    </tr>\n",
       "    <tr>\n",
       "      <th>98</th>\n",
       "      <td>4/19/23</td>\n",
       "      <td>101.580002</td>\n",
       "      <td>105.120003</td>\n",
       "      <td>101.389999</td>\n",
       "      <td>104.300003</td>\n",
       "      <td>104.300003</td>\n",
       "      <td>58398900</td>\n",
       "    </tr>\n",
       "    <tr>\n",
       "      <th>99</th>\n",
       "      <td>4/20/23</td>\n",
       "      <td>103.529999</td>\n",
       "      <td>105.250000</td>\n",
       "      <td>103.209999</td>\n",
       "      <td>103.809998</td>\n",
       "      <td>103.809998</td>\n",
       "      <td>57696900</td>\n",
       "    </tr>\n",
       "  </tbody>\n",
       "</table>\n",
       "<p>100 rows × 7 columns</p>\n",
       "</div>"
      ],
      "text/plain": [
       "        Date        Open        High         Low       Close   Adj Close   \n",
       "0   11/25/22   93.790001   94.430000   93.070000   93.410004   93.410004  \\\n",
       "1   11/28/22   93.930000   96.400002   93.430000   93.949997   93.949997   \n",
       "2   11/29/22   94.040001   94.410004   91.440002   92.419998   92.419998   \n",
       "3   11/30/22   92.470001   96.540001   91.529999   96.540001   96.540001   \n",
       "4    12/1/22   96.989998   97.230003   94.919998   95.500000   95.500000   \n",
       "..       ...         ...         ...         ...         ...         ...   \n",
       "95   4/14/23  102.070000  103.199997  101.110001  102.510002  102.510002   \n",
       "96   4/17/23  103.160004  103.730003  101.589996  102.739998  102.739998   \n",
       "97   4/18/23  103.949997  104.199997  101.519997  102.300003  102.300003   \n",
       "98   4/19/23  101.580002  105.120003  101.389999  104.300003  104.300003   \n",
       "99   4/20/23  103.529999  105.250000  103.209999  103.809998  103.809998   \n",
       "\n",
       "       Volume  \n",
       "0    35088600  \n",
       "1    74943100  \n",
       "2    65567300  \n",
       "3   102805800  \n",
       "4    68488000  \n",
       "..        ...  \n",
       "95   51388300  \n",
       "96   39919500  \n",
       "97   39790500  \n",
       "98   58398900  \n",
       "99   57696900  \n",
       "\n",
       "[100 rows x 7 columns]"
      ]
     },
     "execution_count": 3,
     "metadata": {},
     "output_type": "execute_result"
    }
   ],
   "source": [
    "amazon"
   ]
  },
  {
   "cell_type": "code",
   "execution_count": 4,
   "metadata": {},
   "outputs": [],
   "source": [
    "#Drop the columns we don't need\n",
    "\n",
    "amazon = amazon.drop(['Open', 'High', 'Low', 'Adj Close', 'Volume'], axis=1)"
   ]
  },
  {
   "cell_type": "code",
   "execution_count": 5,
   "metadata": {},
   "outputs": [
    {
     "data": {
      "text/html": [
       "<div>\n",
       "<style scoped>\n",
       "    .dataframe tbody tr th:only-of-type {\n",
       "        vertical-align: middle;\n",
       "    }\n",
       "\n",
       "    .dataframe tbody tr th {\n",
       "        vertical-align: top;\n",
       "    }\n",
       "\n",
       "    .dataframe thead th {\n",
       "        text-align: right;\n",
       "    }\n",
       "</style>\n",
       "<table border=\"1\" class=\"dataframe\">\n",
       "  <thead>\n",
       "    <tr style=\"text-align: right;\">\n",
       "      <th></th>\n",
       "      <th>Date</th>\n",
       "      <th>Close</th>\n",
       "    </tr>\n",
       "  </thead>\n",
       "  <tbody>\n",
       "    <tr>\n",
       "      <th>0</th>\n",
       "      <td>11/25/22</td>\n",
       "      <td>93.410004</td>\n",
       "    </tr>\n",
       "    <tr>\n",
       "      <th>1</th>\n",
       "      <td>11/28/22</td>\n",
       "      <td>93.949997</td>\n",
       "    </tr>\n",
       "    <tr>\n",
       "      <th>2</th>\n",
       "      <td>11/29/22</td>\n",
       "      <td>92.419998</td>\n",
       "    </tr>\n",
       "    <tr>\n",
       "      <th>3</th>\n",
       "      <td>11/30/22</td>\n",
       "      <td>96.540001</td>\n",
       "    </tr>\n",
       "    <tr>\n",
       "      <th>4</th>\n",
       "      <td>12/1/22</td>\n",
       "      <td>95.500000</td>\n",
       "    </tr>\n",
       "    <tr>\n",
       "      <th>...</th>\n",
       "      <td>...</td>\n",
       "      <td>...</td>\n",
       "    </tr>\n",
       "    <tr>\n",
       "      <th>95</th>\n",
       "      <td>4/14/23</td>\n",
       "      <td>102.510002</td>\n",
       "    </tr>\n",
       "    <tr>\n",
       "      <th>96</th>\n",
       "      <td>4/17/23</td>\n",
       "      <td>102.739998</td>\n",
       "    </tr>\n",
       "    <tr>\n",
       "      <th>97</th>\n",
       "      <td>4/18/23</td>\n",
       "      <td>102.300003</td>\n",
       "    </tr>\n",
       "    <tr>\n",
       "      <th>98</th>\n",
       "      <td>4/19/23</td>\n",
       "      <td>104.300003</td>\n",
       "    </tr>\n",
       "    <tr>\n",
       "      <th>99</th>\n",
       "      <td>4/20/23</td>\n",
       "      <td>103.809998</td>\n",
       "    </tr>\n",
       "  </tbody>\n",
       "</table>\n",
       "<p>100 rows × 2 columns</p>\n",
       "</div>"
      ],
      "text/plain": [
       "        Date       Close\n",
       "0   11/25/22   93.410004\n",
       "1   11/28/22   93.949997\n",
       "2   11/29/22   92.419998\n",
       "3   11/30/22   96.540001\n",
       "4    12/1/22   95.500000\n",
       "..       ...         ...\n",
       "95   4/14/23  102.510002\n",
       "96   4/17/23  102.739998\n",
       "97   4/18/23  102.300003\n",
       "98   4/19/23  104.300003\n",
       "99   4/20/23  103.809998\n",
       "\n",
       "[100 rows x 2 columns]"
      ]
     },
     "execution_count": 5,
     "metadata": {},
     "output_type": "execute_result"
    }
   ],
   "source": [
    "amazon"
   ]
  },
  {
   "cell_type": "code",
   "execution_count": 6,
   "metadata": {},
   "outputs": [
    {
     "data": {
      "image/png": "[encoded data removed]",
      "text/plain": [
       "<Figure size 640x480 with 1 Axes>"
      ]
     },
     "metadata": {},
     "output_type": "display_data"
    }
   ],
   "source": [
    "#Plot market\n",
    "\n",
    "plt.plot(amazon['Close'])\n",
    "plt.show()"
   ]
  },
  {
   "cell_type": "markdown",
   "metadata": {},
   "source": [
    "# Data Cleanup"
   ]
  },
  {
   "cell_type": "code",
   "execution_count": 7,
   "metadata": {},
   "outputs": [],
   "source": [
    "# Remove all null values\n",
    "\n",
    "amazon = amazon.dropna().reset_index(drop=True)"
   ]
  },
  {
   "cell_type": "code",
   "execution_count": 8,
   "metadata": {},
   "outputs": [
    {
     "data": {
      "image/png": "[encoded data removed]",
      "text/plain": [
       "<Figure size 640x480 with 1 Axes>"
      ]
     },
     "metadata": {},
     "output_type": "display_data"
    }
   ],
   "source": [
    "plt.plot(amazon['Close'])\n",
    "plt.show()"
   ]
  },
  {
   "cell_type": "markdown",
   "metadata": {},
   "source": [
    "## RESHAPE the data set!"
   ]
  },
  {
   "cell_type": "code",
   "execution_count": 9,
   "metadata": {},
   "outputs": [
    {
     "data": {
      "text/plain": [
       "(100, 2)"
      ]
     },
     "execution_count": 9,
     "metadata": {},
     "output_type": "execute_result"
    }
   ],
   "source": [
    "amazon.shape"
   ]
  },
  {
   "cell_type": "code",
   "execution_count": 10,
   "metadata": {},
   "outputs": [
    {
     "data": {
      "text/plain": [
       "10.0"
      ]
     },
     "execution_count": 10,
     "metadata": {},
     "output_type": "execute_result"
    }
   ],
   "source": [
    "amazon.shape[0]/10"
   ]
  },
  {
   "cell_type": "code",
   "execution_count": 11,
   "metadata": {},
   "outputs": [
    {
     "data": {
      "text/html": [
       "<div>\n",
       "<style scoped>\n",
       "    .dataframe tbody tr th:only-of-type {\n",
       "        vertical-align: middle;\n",
       "    }\n",
       "\n",
       "    .dataframe tbody tr th {\n",
       "        vertical-align: top;\n",
       "    }\n",
       "\n",
       "    .dataframe thead th {\n",
       "        text-align: right;\n",
       "    }\n",
       "</style>\n",
       "<table border=\"1\" class=\"dataframe\">\n",
       "  <thead>\n",
       "    <tr style=\"text-align: right;\">\n",
       "      <th></th>\n",
       "      <th>Close</th>\n",
       "    </tr>\n",
       "    <tr>\n",
       "      <th>Date</th>\n",
       "      <th></th>\n",
       "    </tr>\n",
       "  </thead>\n",
       "  <tbody>\n",
       "    <tr>\n",
       "      <th>1/10/23</th>\n",
       "      <td>1</td>\n",
       "    </tr>\n",
       "    <tr>\n",
       "      <th>1/11/23</th>\n",
       "      <td>1</td>\n",
       "    </tr>\n",
       "    <tr>\n",
       "      <th>1/12/23</th>\n",
       "      <td>1</td>\n",
       "    </tr>\n",
       "    <tr>\n",
       "      <th>1/13/23</th>\n",
       "      <td>1</td>\n",
       "    </tr>\n",
       "    <tr>\n",
       "      <th>1/17/23</th>\n",
       "      <td>1</td>\n",
       "    </tr>\n",
       "    <tr>\n",
       "      <th>...</th>\n",
       "      <td>...</td>\n",
       "    </tr>\n",
       "    <tr>\n",
       "      <th>4/20/23</th>\n",
       "      <td>1</td>\n",
       "    </tr>\n",
       "    <tr>\n",
       "      <th>4/3/23</th>\n",
       "      <td>1</td>\n",
       "    </tr>\n",
       "    <tr>\n",
       "      <th>4/4/23</th>\n",
       "      <td>1</td>\n",
       "    </tr>\n",
       "    <tr>\n",
       "      <th>4/5/23</th>\n",
       "      <td>1</td>\n",
       "    </tr>\n",
       "    <tr>\n",
       "      <th>4/6/23</th>\n",
       "      <td>1</td>\n",
       "    </tr>\n",
       "  </tbody>\n",
       "</table>\n",
       "<p>100 rows × 1 columns</p>\n",
       "</div>"
      ],
      "text/plain": [
       "         Close\n",
       "Date          \n",
       "1/10/23      1\n",
       "1/11/23      1\n",
       "1/12/23      1\n",
       "1/13/23      1\n",
       "1/17/23      1\n",
       "...        ...\n",
       "4/20/23      1\n",
       "4/3/23       1\n",
       "4/4/23       1\n",
       "4/5/23       1\n",
       "4/6/23       1\n",
       "\n",
       "[100 rows x 1 columns]"
      ]
     },
     "execution_count": 11,
     "metadata": {},
     "output_type": "execute_result"
    }
   ],
   "source": [
    "amazon.groupby(['Date']).count()"
   ]
  },
  {
   "cell_type": "code",
   "execution_count": 12,
   "metadata": {},
   "outputs": [
    {
     "data": {
      "text/plain": [
       "array([[ 93.410004,  93.949997,  92.419998,  96.540001,  95.5     ,\n",
       "         94.129997,  91.010002,  88.25    ,  88.459999,  90.349998],\n",
       "       [ 89.089996,  90.550003,  92.489998,  91.580002,  88.449997,\n",
       "         87.860001,  84.919998,  85.190002,  86.769997,  83.790001],\n",
       "       [ 85.25    ,  83.040001,  81.82    ,  84.18    ,  84.      ,\n",
       "         85.82    ,  85.139999,  83.120003,  86.080002,  87.360001],\n",
       "       [ 89.870003,  95.089996,  95.269997,  98.120003,  96.050003,\n",
       "         95.459999,  93.68    ,  97.25    ,  97.519997,  96.32    ],\n",
       "       [ 97.18    ,  99.220001, 102.239998, 100.550003, 103.129997,\n",
       "        105.150002, 112.910004, 103.389999, 102.18    , 102.110001],\n",
       "       [100.050003,  98.239998,  97.610001,  99.540001,  99.699997,\n",
       "        101.160004,  98.150002,  97.199997,  94.580002,  95.790001],\n",
       "       [ 95.82    ,  93.5     ,  93.760002,  94.230003,  92.169998,\n",
       "         92.129997,  94.900002,  93.75    ,  93.550003,  93.919998],\n",
       "       [ 92.25    ,  90.730003,  92.43    ,  94.879997,  96.199997,\n",
       "        100.040001,  98.949997,  97.709999, 100.610001,  98.699997],\n",
       "       [ 98.709999,  98.129997,  98.040001,  97.239998, 100.25    ,\n",
       "        102.      , 103.290001, 102.410004, 103.949997, 101.099998],\n",
       "       [102.059998, 102.169998,  99.919998,  97.830002, 102.400002,\n",
       "        102.510002, 102.739998, 102.300003, 104.300003, 103.809998]])"
      ]
     },
     "execution_count": 12,
     "metadata": {},
     "output_type": "execute_result"
    }
   ],
   "source": [
    "# Re-organize the data set\n",
    "\n",
    "market = np.array(amazon['Close']).reshape(10,10)\n",
    "\n",
    "market"
   ]
  },
  {
   "cell_type": "code",
   "execution_count": 13,
   "metadata": {},
   "outputs": [
    {
     "data": {
      "text/html": [
       "<div>\n",
       "<style scoped>\n",
       "    .dataframe tbody tr th:only-of-type {\n",
       "        vertical-align: middle;\n",
       "    }\n",
       "\n",
       "    .dataframe tbody tr th {\n",
       "        vertical-align: top;\n",
       "    }\n",
       "\n",
       "    .dataframe thead th {\n",
       "        text-align: right;\n",
       "    }\n",
       "</style>\n",
       "<table border=\"1\" class=\"dataframe\">\n",
       "  <thead>\n",
       "    <tr style=\"text-align: right;\">\n",
       "      <th></th>\n",
       "      <th>0</th>\n",
       "      <th>1</th>\n",
       "      <th>2</th>\n",
       "      <th>3</th>\n",
       "      <th>4</th>\n",
       "      <th>5</th>\n",
       "      <th>6</th>\n",
       "      <th>7</th>\n",
       "      <th>8</th>\n",
       "      <th>9</th>\n",
       "    </tr>\n",
       "  </thead>\n",
       "  <tbody>\n",
       "    <tr>\n",
       "      <th>0</th>\n",
       "      <td>93.410004</td>\n",
       "      <td>93.949997</td>\n",
       "      <td>92.419998</td>\n",
       "      <td>96.540001</td>\n",
       "      <td>95.500000</td>\n",
       "      <td>94.129997</td>\n",
       "      <td>91.010002</td>\n",
       "      <td>88.250000</td>\n",
       "      <td>88.459999</td>\n",
       "      <td>90.349998</td>\n",
       "    </tr>\n",
       "    <tr>\n",
       "      <th>1</th>\n",
       "      <td>89.089996</td>\n",
       "      <td>90.550003</td>\n",
       "      <td>92.489998</td>\n",
       "      <td>91.580002</td>\n",
       "      <td>88.449997</td>\n",
       "      <td>87.860001</td>\n",
       "      <td>84.919998</td>\n",
       "      <td>85.190002</td>\n",
       "      <td>86.769997</td>\n",
       "      <td>83.790001</td>\n",
       "    </tr>\n",
       "    <tr>\n",
       "      <th>2</th>\n",
       "      <td>85.250000</td>\n",
       "      <td>83.040001</td>\n",
       "      <td>81.820000</td>\n",
       "      <td>84.180000</td>\n",
       "      <td>84.000000</td>\n",
       "      <td>85.820000</td>\n",
       "      <td>85.139999</td>\n",
       "      <td>83.120003</td>\n",
       "      <td>86.080002</td>\n",
       "      <td>87.360001</td>\n",
       "    </tr>\n",
       "    <tr>\n",
       "      <th>3</th>\n",
       "      <td>89.870003</td>\n",
       "      <td>95.089996</td>\n",
       "      <td>95.269997</td>\n",
       "      <td>98.120003</td>\n",
       "      <td>96.050003</td>\n",
       "      <td>95.459999</td>\n",
       "      <td>93.680000</td>\n",
       "      <td>97.250000</td>\n",
       "      <td>97.519997</td>\n",
       "      <td>96.320000</td>\n",
       "    </tr>\n",
       "    <tr>\n",
       "      <th>4</th>\n",
       "      <td>97.180000</td>\n",
       "      <td>99.220001</td>\n",
       "      <td>102.239998</td>\n",
       "      <td>100.550003</td>\n",
       "      <td>103.129997</td>\n",
       "      <td>105.150002</td>\n",
       "      <td>112.910004</td>\n",
       "      <td>103.389999</td>\n",
       "      <td>102.180000</td>\n",
       "      <td>102.110001</td>\n",
       "    </tr>\n",
       "    <tr>\n",
       "      <th>5</th>\n",
       "      <td>100.050003</td>\n",
       "      <td>98.239998</td>\n",
       "      <td>97.610001</td>\n",
       "      <td>99.540001</td>\n",
       "      <td>99.699997</td>\n",
       "      <td>101.160004</td>\n",
       "      <td>98.150002</td>\n",
       "      <td>97.199997</td>\n",
       "      <td>94.580002</td>\n",
       "      <td>95.790001</td>\n",
       "    </tr>\n",
       "    <tr>\n",
       "      <th>6</th>\n",
       "      <td>95.820000</td>\n",
       "      <td>93.500000</td>\n",
       "      <td>93.760002</td>\n",
       "      <td>94.230003</td>\n",
       "      <td>92.169998</td>\n",
       "      <td>92.129997</td>\n",
       "      <td>94.900002</td>\n",
       "      <td>93.750000</td>\n",
       "      <td>93.550003</td>\n",
       "      <td>93.919998</td>\n",
       "    </tr>\n",
       "    <tr>\n",
       "      <th>7</th>\n",
       "      <td>92.250000</td>\n",
       "      <td>90.730003</td>\n",
       "      <td>92.430000</td>\n",
       "      <td>94.879997</td>\n",
       "      <td>96.199997</td>\n",
       "      <td>100.040001</td>\n",
       "      <td>98.949997</td>\n",
       "      <td>97.709999</td>\n",
       "      <td>100.610001</td>\n",
       "      <td>98.699997</td>\n",
       "    </tr>\n",
       "    <tr>\n",
       "      <th>8</th>\n",
       "      <td>98.709999</td>\n",
       "      <td>98.129997</td>\n",
       "      <td>98.040001</td>\n",
       "      <td>97.239998</td>\n",
       "      <td>100.250000</td>\n",
       "      <td>102.000000</td>\n",
       "      <td>103.290001</td>\n",
       "      <td>102.410004</td>\n",
       "      <td>103.949997</td>\n",
       "      <td>101.099998</td>\n",
       "    </tr>\n",
       "    <tr>\n",
       "      <th>9</th>\n",
       "      <td>102.059998</td>\n",
       "      <td>102.169998</td>\n",
       "      <td>99.919998</td>\n",
       "      <td>97.830002</td>\n",
       "      <td>102.400002</td>\n",
       "      <td>102.510002</td>\n",
       "      <td>102.739998</td>\n",
       "      <td>102.300003</td>\n",
       "      <td>104.300003</td>\n",
       "      <td>103.809998</td>\n",
       "    </tr>\n",
       "  </tbody>\n",
       "</table>\n",
       "</div>"
      ],
      "text/plain": [
       "            0           1           2           3           4           5   \n",
       "0   93.410004   93.949997   92.419998   96.540001   95.500000   94.129997  \\\n",
       "1   89.089996   90.550003   92.489998   91.580002   88.449997   87.860001   \n",
       "2   85.250000   83.040001   81.820000   84.180000   84.000000   85.820000   \n",
       "3   89.870003   95.089996   95.269997   98.120003   96.050003   95.459999   \n",
       "4   97.180000   99.220001  102.239998  100.550003  103.129997  105.150002   \n",
       "5  100.050003   98.239998   97.610001   99.540001   99.699997  101.160004   \n",
       "6   95.820000   93.500000   93.760002   94.230003   92.169998   92.129997   \n",
       "7   92.250000   90.730003   92.430000   94.879997   96.199997  100.040001   \n",
       "8   98.709999   98.129997   98.040001   97.239998  100.250000  102.000000   \n",
       "9  102.059998  102.169998   99.919998   97.830002  102.400002  102.510002   \n",
       "\n",
       "            6           7           8           9  \n",
       "0   91.010002   88.250000   88.459999   90.349998  \n",
       "1   84.919998   85.190002   86.769997   83.790001  \n",
       "2   85.139999   83.120003   86.080002   87.360001  \n",
       "3   93.680000   97.250000   97.519997   96.320000  \n",
       "4  112.910004  103.389999  102.180000  102.110001  \n",
       "5   98.150002   97.199997   94.580002   95.790001  \n",
       "6   94.900002   93.750000   93.550003   93.919998  \n",
       "7   98.949997   97.709999  100.610001   98.699997  \n",
       "8  103.290001  102.410004  103.949997  101.099998  \n",
       "9  102.739998  102.300003  104.300003  103.809998  "
      ]
     },
     "execution_count": 13,
     "metadata": {},
     "output_type": "execute_result"
    }
   ],
   "source": [
    "# Convert to dataframe\n",
    "\n",
    "market_df = pd.DataFrame(market, columns=np.arange(0,10,1))\n",
    "\n",
    "market_df"
   ]
  },
  {
   "cell_type": "markdown",
   "metadata": {},
   "source": [
    "# Reshape for Standardizing Data"
   ]
  },
  {
   "cell_type": "code",
   "execution_count": 14,
   "metadata": {},
   "outputs": [
    {
     "data": {
      "text/plain": [
       "(100, 1)"
      ]
     },
     "execution_count": 14,
     "metadata": {},
     "output_type": "execute_result"
    }
   ],
   "source": [
    "# Let's create a single sequence (i.e., feature) for standardization\n",
    "\n",
    "market_1feature = np.array(market_df).ravel().reshape(-1,1)\n",
    "\n",
    "market_1feature.shape"
   ]
  },
  {
   "cell_type": "code",
   "execution_count": 15,
   "metadata": {
    "scrolled": true
   },
   "outputs": [
    {
     "data": {
      "text/plain": [
       "array([[ 93.410004],\n",
       "       [ 93.949997],\n",
       "       [ 92.419998],\n",
       "       [ 96.540001],\n",
       "       [ 95.5     ],\n",
       "       [ 94.129997],\n",
       "       [ 91.010002],\n",
       "       [ 88.25    ],\n",
       "       [ 88.459999],\n",
       "       [ 90.349998],\n",
       "       [ 89.089996],\n",
       "       [ 90.550003],\n",
       "       [ 92.489998],\n",
       "       [ 91.580002],\n",
       "       [ 88.449997],\n",
       "       [ 87.860001],\n",
       "       [ 84.919998],\n",
       "       [ 85.190002],\n",
       "       [ 86.769997],\n",
       "       [ 83.790001],\n",
       "       [ 85.25    ],\n",
       "       [ 83.040001],\n",
       "       [ 81.82    ],\n",
       "       [ 84.18    ],\n",
       "       [ 84.      ],\n",
       "       [ 85.82    ],\n",
       "       [ 85.139999],\n",
       "       [ 83.120003],\n",
       "       [ 86.080002],\n",
       "       [ 87.360001],\n",
       "       [ 89.870003],\n",
       "       [ 95.089996],\n",
       "       [ 95.269997],\n",
       "       [ 98.120003],\n",
       "       [ 96.050003],\n",
       "       [ 95.459999],\n",
       "       [ 93.68    ],\n",
       "       [ 97.25    ],\n",
       "       [ 97.519997],\n",
       "       [ 96.32    ],\n",
       "       [ 97.18    ],\n",
       "       [ 99.220001],\n",
       "       [102.239998],\n",
       "       [100.550003],\n",
       "       [103.129997],\n",
       "       [105.150002],\n",
       "       [112.910004],\n",
       "       [103.389999],\n",
       "       [102.18    ],\n",
       "       [102.110001],\n",
       "       [100.050003],\n",
       "       [ 98.239998],\n",
       "       [ 97.610001],\n",
       "       [ 99.540001],\n",
       "       [ 99.699997],\n",
       "       [101.160004],\n",
       "       [ 98.150002],\n",
       "       [ 97.199997],\n",
       "       [ 94.580002],\n",
       "       [ 95.790001],\n",
       "       [ 95.82    ],\n",
       "       [ 93.5     ],\n",
       "       [ 93.760002],\n",
       "       [ 94.230003],\n",
       "       [ 92.169998],\n",
       "       [ 92.129997],\n",
       "       [ 94.900002],\n",
       "       [ 93.75    ],\n",
       "       [ 93.550003],\n",
       "       [ 93.919998],\n",
       "       [ 92.25    ],\n",
       "       [ 90.730003],\n",
       "       [ 92.43    ],\n",
       "       [ 94.879997],\n",
       "       [ 96.199997],\n",
       "       [100.040001],\n",
       "       [ 98.949997],\n",
       "       [ 97.709999],\n",
       "       [100.610001],\n",
       "       [ 98.699997],\n",
       "       [ 98.709999],\n",
       "       [ 98.129997],\n",
       "       [ 98.040001],\n",
       "       [ 97.239998],\n",
       "       [100.25    ],\n",
       "       [102.      ],\n",
       "       [103.290001],\n",
       "       [102.410004],\n",
       "       [103.949997],\n",
       "       [101.099998],\n",
       "       [102.059998],\n",
       "       [102.169998],\n",
       "       [ 99.919998],\n",
       "       [ 97.830002],\n",
       "       [102.400002],\n",
       "       [102.510002],\n",
       "       [102.739998],\n",
       "       [102.300003],\n",
       "       [104.300003],\n",
       "       [103.809998]])"
      ]
     },
     "execution_count": 15,
     "metadata": {},
     "output_type": "execute_result"
    }
   ],
   "source": [
    "market_1feature"
   ]
  },
  {
   "cell_type": "markdown",
   "metadata": {},
   "source": [
    "## Standardize the values"
   ]
  },
  {
   "cell_type": "code",
   "execution_count": 16,
   "metadata": {},
   "outputs": [],
   "source": [
    "# Next, standardize\n",
    "\n",
    "from sklearn.preprocessing import StandardScaler\n",
    "\n",
    "scaler = StandardScaler()\n",
    "\n",
    "market_std = scaler.fit_transform(market_1feature)"
   ]
  },
  {
   "cell_type": "code",
   "execution_count": 17,
   "metadata": {},
   "outputs": [
    {
     "data": {
      "text/plain": [
       "(10, 10)"
      ]
     },
     "execution_count": 17,
     "metadata": {},
     "output_type": "execute_result"
    }
   ],
   "source": [
    "market_reshaped =market_std.reshape(10,10)\n",
    "\n",
    "market_reshaped.shape"
   ]
  },
  {
   "cell_type": "code",
   "execution_count": 18,
   "metadata": {},
   "outputs": [
    {
     "data": {
      "text/html": [
       "<div>\n",
       "<style scoped>\n",
       "    .dataframe tbody tr th:only-of-type {\n",
       "        vertical-align: middle;\n",
       "    }\n",
       "\n",
       "    .dataframe tbody tr th {\n",
       "        vertical-align: top;\n",
       "    }\n",
       "\n",
       "    .dataframe thead th {\n",
       "        text-align: right;\n",
       "    }\n",
       "</style>\n",
       "<table border=\"1\" class=\"dataframe\">\n",
       "  <thead>\n",
       "    <tr style=\"text-align: right;\">\n",
       "      <th></th>\n",
       "      <th>0</th>\n",
       "      <th>1</th>\n",
       "      <th>2</th>\n",
       "      <th>3</th>\n",
       "      <th>4</th>\n",
       "      <th>5</th>\n",
       "      <th>6</th>\n",
       "      <th>7</th>\n",
       "      <th>8</th>\n",
       "      <th>9</th>\n",
       "    </tr>\n",
       "  </thead>\n",
       "  <tbody>\n",
       "    <tr>\n",
       "      <th>0</th>\n",
       "      <td>-0.324611</td>\n",
       "      <td>-0.236800</td>\n",
       "      <td>-0.485601</td>\n",
       "      <td>0.184373</td>\n",
       "      <td>0.015253</td>\n",
       "      <td>-0.207529</td>\n",
       "      <td>-0.714887</td>\n",
       "      <td>-1.163704</td>\n",
       "      <td>-1.129555</td>\n",
       "      <td>-0.822213</td>\n",
       "    </tr>\n",
       "    <tr>\n",
       "      <th>1</th>\n",
       "      <td>-1.027108</td>\n",
       "      <td>-0.789689</td>\n",
       "      <td>-0.474218</td>\n",
       "      <td>-0.622196</td>\n",
       "      <td>-1.131181</td>\n",
       "      <td>-1.227123</td>\n",
       "      <td>-1.705211</td>\n",
       "      <td>-1.661305</td>\n",
       "      <td>-1.404374</td>\n",
       "      <td>-1.888966</td>\n",
       "    </tr>\n",
       "    <tr>\n",
       "      <th>2</th>\n",
       "      <td>-1.651548</td>\n",
       "      <td>-2.010927</td>\n",
       "      <td>-2.209317</td>\n",
       "      <td>-1.825546</td>\n",
       "      <td>-1.854817</td>\n",
       "      <td>-1.558858</td>\n",
       "      <td>-1.669436</td>\n",
       "      <td>-1.997917</td>\n",
       "      <td>-1.516578</td>\n",
       "      <td>-1.308431</td>\n",
       "    </tr>\n",
       "    <tr>\n",
       "      <th>3</th>\n",
       "      <td>-0.900267</td>\n",
       "      <td>-0.051419</td>\n",
       "      <td>-0.022149</td>\n",
       "      <td>0.441304</td>\n",
       "      <td>0.104692</td>\n",
       "      <td>0.008749</td>\n",
       "      <td>-0.280706</td>\n",
       "      <td>0.299829</td>\n",
       "      <td>0.343735</td>\n",
       "      <td>0.148597</td>\n",
       "    </tr>\n",
       "    <tr>\n",
       "      <th>4</th>\n",
       "      <td>0.288446</td>\n",
       "      <td>0.620180</td>\n",
       "      <td>1.111277</td>\n",
       "      <td>0.836458</td>\n",
       "      <td>1.256004</td>\n",
       "      <td>1.584486</td>\n",
       "      <td>2.846377</td>\n",
       "      <td>1.298284</td>\n",
       "      <td>1.101520</td>\n",
       "      <td>1.090137</td>\n",
       "    </tr>\n",
       "    <tr>\n",
       "      <th>5</th>\n",
       "      <td>0.755151</td>\n",
       "      <td>0.460817</td>\n",
       "      <td>0.358371</td>\n",
       "      <td>0.672217</td>\n",
       "      <td>0.698235</td>\n",
       "      <td>0.935654</td>\n",
       "      <td>0.446183</td>\n",
       "      <td>0.291698</td>\n",
       "      <td>-0.134352</td>\n",
       "      <td>0.062412</td>\n",
       "    </tr>\n",
       "    <tr>\n",
       "      <th>6</th>\n",
       "      <td>0.067290</td>\n",
       "      <td>-0.309976</td>\n",
       "      <td>-0.267696</td>\n",
       "      <td>-0.191267</td>\n",
       "      <td>-0.526254</td>\n",
       "      <td>-0.532759</td>\n",
       "      <td>-0.082315</td>\n",
       "      <td>-0.269323</td>\n",
       "      <td>-0.301845</td>\n",
       "      <td>-0.241678</td>\n",
       "    </tr>\n",
       "    <tr>\n",
       "      <th>7</th>\n",
       "      <td>-0.513245</td>\n",
       "      <td>-0.760419</td>\n",
       "      <td>-0.483974</td>\n",
       "      <td>-0.085568</td>\n",
       "      <td>0.129083</td>\n",
       "      <td>0.753525</td>\n",
       "      <td>0.576274</td>\n",
       "      <td>0.374632</td>\n",
       "      <td>0.846215</td>\n",
       "      <td>0.535620</td>\n",
       "    </tr>\n",
       "    <tr>\n",
       "      <th>8</th>\n",
       "      <td>0.537247</td>\n",
       "      <td>0.442930</td>\n",
       "      <td>0.428295</td>\n",
       "      <td>0.298203</td>\n",
       "      <td>0.787673</td>\n",
       "      <td>1.072249</td>\n",
       "      <td>1.282023</td>\n",
       "      <td>1.138922</td>\n",
       "      <td>1.389348</td>\n",
       "      <td>0.925896</td>\n",
       "    </tr>\n",
       "    <tr>\n",
       "      <th>9</th>\n",
       "      <td>1.082006</td>\n",
       "      <td>1.099894</td>\n",
       "      <td>0.734010</td>\n",
       "      <td>0.394146</td>\n",
       "      <td>1.137296</td>\n",
       "      <td>1.155183</td>\n",
       "      <td>1.192584</td>\n",
       "      <td>1.121034</td>\n",
       "      <td>1.446264</td>\n",
       "      <td>1.366582</td>\n",
       "    </tr>\n",
       "  </tbody>\n",
       "</table>\n",
       "</div>"
      ],
      "text/plain": [
       "          0         1         2         3         4         5         6   \n",
       "0 -0.324611 -0.236800 -0.485601  0.184373  0.015253 -0.207529 -0.714887  \\\n",
       "1 -1.027108 -0.789689 -0.474218 -0.622196 -1.131181 -1.227123 -1.705211   \n",
       "2 -1.651548 -2.010927 -2.209317 -1.825546 -1.854817 -1.558858 -1.669436   \n",
       "3 -0.900267 -0.051419 -0.022149  0.441304  0.104692  0.008749 -0.280706   \n",
       "4  0.288446  0.620180  1.111277  0.836458  1.256004  1.584486  2.846377   \n",
       "5  0.755151  0.460817  0.358371  0.672217  0.698235  0.935654  0.446183   \n",
       "6  0.067290 -0.309976 -0.267696 -0.191267 -0.526254 -0.532759 -0.082315   \n",
       "7 -0.513245 -0.760419 -0.483974 -0.085568  0.129083  0.753525  0.576274   \n",
       "8  0.537247  0.442930  0.428295  0.298203  0.787673  1.072249  1.282023   \n",
       "9  1.082006  1.099894  0.734010  0.394146  1.137296  1.155183  1.192584   \n",
       "\n",
       "          7         8         9  \n",
       "0 -1.163704 -1.129555 -0.822213  \n",
       "1 -1.661305 -1.404374 -1.888966  \n",
       "2 -1.997917 -1.516578 -1.308431  \n",
       "3  0.299829  0.343735  0.148597  \n",
       "4  1.298284  1.101520  1.090137  \n",
       "5  0.291698 -0.134352  0.062412  \n",
       "6 -0.269323 -0.301845 -0.241678  \n",
       "7  0.374632  0.846215  0.535620  \n",
       "8  1.138922  1.389348  0.925896  \n",
       "9  1.121034  1.446264  1.366582  "
      ]
     },
     "execution_count": 18,
     "metadata": {},
     "output_type": "execute_result"
    }
   ],
   "source": [
    "#Pandas version of the reshaped data\n",
    "\n",
    "pd.DataFrame(market_reshaped)"
   ]
  },
  {
   "cell_type": "markdown",
   "metadata": {},
   "source": [
    "# Split the Data\n",
    "\n",
    "**In certain cases, we cannot use a random split. For example, if we are trying to predict the stock market, we cannot use a random split. We need to use a chronological split.**\n",
    "\n",
    "BUT, keep in mind if we have something like hourly readings of dayly temperature, we can use a random split on days, but the sequence of the temperature within the day is important to remain sequential.\n",
    "\n",
    "In this case, we are using a random spli because each day as an independent sample."
   ]
  },
  {
   "cell_type": "code",
   "execution_count": 19,
   "metadata": {},
   "outputs": [],
   "source": [
    "from sklearn.model_selection import train_test_split\n",
    "\n",
    "#train, test = train_test_split(temp_reshaped, test_size=0.3)\n",
    "\n",
    "# if we neede to maintain the ordering of the data, we can use the following code to split the data\n",
    "split_point = int(len(market_reshaped)*0.7)\n",
    "train, test = market_reshaped[:split_point], market_reshaped[split_point:]"
   ]
  },
  {
   "cell_type": "code",
   "execution_count": 20,
   "metadata": {},
   "outputs": [
    {
     "data": {
      "text/plain": [
       "(7, 10)"
      ]
     },
     "execution_count": 20,
     "metadata": {},
     "output_type": "execute_result"
    }
   ],
   "source": [
    "train.shape"
   ]
  },
  {
   "cell_type": "code",
   "execution_count": 21,
   "metadata": {},
   "outputs": [
    {
     "data": {
      "text/plain": [
       "array([[-0.32461097, -0.23680013, -0.48560058,  0.18437281,  0.01525327,\n",
       "        -0.20752947, -0.71488677, -1.1637039 , -1.12955496, -0.82221318],\n",
       "       [-1.02710813, -0.78968941, -0.47421755, -0.62219635, -1.13118143,\n",
       "        -1.2271235 , -1.70521145, -1.6613048 , -1.40437426, -1.88896566],\n",
       "       [-1.65154824, -2.01092675, -2.20931694, -1.82554606, -1.85481672,\n",
       "        -1.55885782, -1.66943603, -1.99791724, -1.51657765, -1.30843089],\n",
       "       [-0.90026746, -0.05141944, -0.02214862,  0.44130449,  0.10469189,\n",
       "         0.00874852, -0.28070563,  0.29982914,  0.34373464,  0.14859739],\n",
       "       [ 0.2884461 ,  0.62018042,  1.11127657,  0.83645841,  1.25600357,\n",
       "         1.58448624,  2.84637727,  1.29828373,  1.10152001,  1.09013714],\n",
       "       [ 0.75515101,  0.46081745,  0.35837062,  0.67221715,  0.69823486,\n",
       "         0.93565358,  0.44618277,  0.29169791, -0.134352  ,  0.06241172],\n",
       "       [ 0.06729   , -0.30997629, -0.26769613, -0.19126702, -0.52625428,\n",
       "        -0.53275903, -0.08231527, -0.2693226 , -0.30184507, -0.24167841]])"
      ]
     },
     "execution_count": 21,
     "metadata": {},
     "output_type": "execute_result"
    }
   ],
   "source": [
    "train"
   ]
  },
  {
   "cell_type": "code",
   "execution_count": 22,
   "metadata": {},
   "outputs": [
    {
     "data": {
      "text/plain": [
       "(3, 10)"
      ]
     },
     "execution_count": 22,
     "metadata": {},
     "output_type": "execute_result"
    }
   ],
   "source": [
    "test.shape"
   ]
  },
  {
   "cell_type": "code",
   "execution_count": 23,
   "metadata": {},
   "outputs": [
    {
     "data": {
      "text/plain": [
       "array([[-0.51324477, -0.76041875, -0.48397411, -0.08556838,  0.12908313,\n",
       "         0.75352454,  0.57627378,  0.37463177,  0.84621497,  0.53562008],\n",
       "       [ 0.53724656,  0.44292966,  0.42829498,  0.29820266,  0.78767348,\n",
       "         1.07224935,  1.28202258,  1.13892206,  1.38934769,  0.92589572],\n",
       "       [ 1.08200591,  1.09989354,  0.73401028,  0.39414604,  1.13729559,\n",
       "         1.15518321,  1.19258396,  1.12103427,  1.44626384,  1.36658178]])"
      ]
     },
     "execution_count": 23,
     "metadata": {},
     "output_type": "execute_result"
    }
   ],
   "source": [
    "test"
   ]
  },
  {
   "cell_type": "markdown",
   "metadata": {},
   "source": [
    "# Create Input and Target values"
   ]
  },
  {
   "cell_type": "code",
   "execution_count": 24,
   "metadata": {},
   "outputs": [
    {
     "data": {
      "text/html": [
       "<div>\n",
       "<style scoped>\n",
       "    .dataframe tbody tr th:only-of-type {\n",
       "        vertical-align: middle;\n",
       "    }\n",
       "\n",
       "    .dataframe tbody tr th {\n",
       "        vertical-align: top;\n",
       "    }\n",
       "\n",
       "    .dataframe thead th {\n",
       "        text-align: right;\n",
       "    }\n",
       "</style>\n",
       "<table border=\"1\" class=\"dataframe\">\n",
       "  <thead>\n",
       "    <tr style=\"text-align: right;\">\n",
       "      <th></th>\n",
       "      <th>0</th>\n",
       "      <th>1</th>\n",
       "      <th>2</th>\n",
       "      <th>3</th>\n",
       "      <th>4</th>\n",
       "      <th>5</th>\n",
       "      <th>6</th>\n",
       "      <th>7</th>\n",
       "      <th>8</th>\n",
       "    </tr>\n",
       "  </thead>\n",
       "  <tbody>\n",
       "    <tr>\n",
       "      <th>0</th>\n",
       "      <td>-0.324611</td>\n",
       "      <td>-0.236800</td>\n",
       "      <td>-0.485601</td>\n",
       "      <td>0.184373</td>\n",
       "      <td>0.015253</td>\n",
       "      <td>-0.207529</td>\n",
       "      <td>-0.714887</td>\n",
       "      <td>-1.163704</td>\n",
       "      <td>-1.129555</td>\n",
       "    </tr>\n",
       "    <tr>\n",
       "      <th>1</th>\n",
       "      <td>-1.027108</td>\n",
       "      <td>-0.789689</td>\n",
       "      <td>-0.474218</td>\n",
       "      <td>-0.622196</td>\n",
       "      <td>-1.131181</td>\n",
       "      <td>-1.227123</td>\n",
       "      <td>-1.705211</td>\n",
       "      <td>-1.661305</td>\n",
       "      <td>-1.404374</td>\n",
       "    </tr>\n",
       "    <tr>\n",
       "      <th>2</th>\n",
       "      <td>-1.651548</td>\n",
       "      <td>-2.010927</td>\n",
       "      <td>-2.209317</td>\n",
       "      <td>-1.825546</td>\n",
       "      <td>-1.854817</td>\n",
       "      <td>-1.558858</td>\n",
       "      <td>-1.669436</td>\n",
       "      <td>-1.997917</td>\n",
       "      <td>-1.516578</td>\n",
       "    </tr>\n",
       "    <tr>\n",
       "      <th>3</th>\n",
       "      <td>-0.900267</td>\n",
       "      <td>-0.051419</td>\n",
       "      <td>-0.022149</td>\n",
       "      <td>0.441304</td>\n",
       "      <td>0.104692</td>\n",
       "      <td>0.008749</td>\n",
       "      <td>-0.280706</td>\n",
       "      <td>0.299829</td>\n",
       "      <td>0.343735</td>\n",
       "    </tr>\n",
       "    <tr>\n",
       "      <th>4</th>\n",
       "      <td>0.288446</td>\n",
       "      <td>0.620180</td>\n",
       "      <td>1.111277</td>\n",
       "      <td>0.836458</td>\n",
       "      <td>1.256004</td>\n",
       "      <td>1.584486</td>\n",
       "      <td>2.846377</td>\n",
       "      <td>1.298284</td>\n",
       "      <td>1.101520</td>\n",
       "    </tr>\n",
       "    <tr>\n",
       "      <th>5</th>\n",
       "      <td>0.755151</td>\n",
       "      <td>0.460817</td>\n",
       "      <td>0.358371</td>\n",
       "      <td>0.672217</td>\n",
       "      <td>0.698235</td>\n",
       "      <td>0.935654</td>\n",
       "      <td>0.446183</td>\n",
       "      <td>0.291698</td>\n",
       "      <td>-0.134352</td>\n",
       "    </tr>\n",
       "    <tr>\n",
       "      <th>6</th>\n",
       "      <td>0.067290</td>\n",
       "      <td>-0.309976</td>\n",
       "      <td>-0.267696</td>\n",
       "      <td>-0.191267</td>\n",
       "      <td>-0.526254</td>\n",
       "      <td>-0.532759</td>\n",
       "      <td>-0.082315</td>\n",
       "      <td>-0.269323</td>\n",
       "      <td>-0.301845</td>\n",
       "    </tr>\n",
       "  </tbody>\n",
       "</table>\n",
       "</div>"
      ],
      "text/plain": [
       "          0         1         2         3         4         5         6   \n",
       "0 -0.324611 -0.236800 -0.485601  0.184373  0.015253 -0.207529 -0.714887  \\\n",
       "1 -1.027108 -0.789689 -0.474218 -0.622196 -1.131181 -1.227123 -1.705211   \n",
       "2 -1.651548 -2.010927 -2.209317 -1.825546 -1.854817 -1.558858 -1.669436   \n",
       "3 -0.900267 -0.051419 -0.022149  0.441304  0.104692  0.008749 -0.280706   \n",
       "4  0.288446  0.620180  1.111277  0.836458  1.256004  1.584486  2.846377   \n",
       "5  0.755151  0.460817  0.358371  0.672217  0.698235  0.935654  0.446183   \n",
       "6  0.067290 -0.309976 -0.267696 -0.191267 -0.526254 -0.532759 -0.082315   \n",
       "\n",
       "          7         8  \n",
       "0 -1.163704 -1.129555  \n",
       "1 -1.661305 -1.404374  \n",
       "2 -1.997917 -1.516578  \n",
       "3  0.299829  0.343735  \n",
       "4  1.298284  1.101520  \n",
       "5  0.291698 -0.134352  \n",
       "6 -0.269323 -0.301845  "
      ]
     },
     "execution_count": 24,
     "metadata": {},
     "output_type": "execute_result"
    }
   ],
   "source": [
    "train_inputs = train[:,:9]\n",
    "\n",
    "\n",
    "pd.DataFrame(train_inputs)"
   ]
  },
  {
   "cell_type": "markdown",
   "metadata": {},
   "source": [
    "## Add one more dimension to make it ready for RNNs"
   ]
  },
  {
   "cell_type": "markdown",
   "metadata": {},
   "source": [
    "See here for more details: https://keras.io/layers/recurrent/, and https://shiva-verma.medium.com/understanding-input-and-output-shape-in-lstm-keras-c501ee95c65e\n"
   ]
  },
  {
   "cell_type": "code",
   "execution_count": 25,
   "metadata": {},
   "outputs": [
    {
     "data": {
      "text/plain": [
       "array([[-0.32461097, -0.23680013, -0.48560058,  0.18437281,  0.01525327,\n",
       "        -0.20752947, -0.71488677, -1.1637039 , -1.12955496],\n",
       "       [-1.02710813, -0.78968941, -0.47421755, -0.62219635, -1.13118143,\n",
       "        -1.2271235 , -1.70521145, -1.6613048 , -1.40437426],\n",
       "       [-1.65154824, -2.01092675, -2.20931694, -1.82554606, -1.85481672,\n",
       "        -1.55885782, -1.66943603, -1.99791724, -1.51657765],\n",
       "       [-0.90026746, -0.05141944, -0.02214862,  0.44130449,  0.10469189,\n",
       "         0.00874852, -0.28070563,  0.29982914,  0.34373464],\n",
       "       [ 0.2884461 ,  0.62018042,  1.11127657,  0.83645841,  1.25600357,\n",
       "         1.58448624,  2.84637727,  1.29828373,  1.10152001],\n",
       "       [ 0.75515101,  0.46081745,  0.35837062,  0.67221715,  0.69823486,\n",
       "         0.93565358,  0.44618277,  0.29169791, -0.134352  ],\n",
       "       [ 0.06729   , -0.30997629, -0.26769613, -0.19126702, -0.52625428,\n",
       "        -0.53275903, -0.08231527, -0.2693226 , -0.30184507]])"
      ]
     },
     "execution_count": 25,
     "metadata": {},
     "output_type": "execute_result"
    }
   ],
   "source": [
    "train_inputs"
   ]
  },
  {
   "cell_type": "code",
   "execution_count": 26,
   "metadata": {},
   "outputs": [
    {
     "data": {
      "text/plain": [
       "(7, 9)"
      ]
     },
     "execution_count": 26,
     "metadata": {},
     "output_type": "execute_result"
    }
   ],
   "source": [
    "train_inputs.shape "
   ]
  },
  {
   "cell_type": "code",
   "execution_count": 27,
   "metadata": {},
   "outputs": [
    {
     "data": {
      "text/plain": [
       "(7, 9, 1)"
      ]
     },
     "execution_count": 27,
     "metadata": {},
     "output_type": "execute_result"
    }
   ],
   "source": [
    "#Create an additional dimension for train\n",
    "\n",
    "train_x = train_inputs[:,:,np.newaxis]\n",
    "\n",
    "train_x.shape "
   ]
  },
  {
   "cell_type": "code",
   "execution_count": 28,
   "metadata": {},
   "outputs": [
    {
     "data": {
      "text/plain": [
       "array([[[-0.32461097],\n",
       "        [-0.23680013],\n",
       "        [-0.48560058],\n",
       "        [ 0.18437281],\n",
       "        [ 0.01525327],\n",
       "        [-0.20752947],\n",
       "        [-0.71488677],\n",
       "        [-1.1637039 ],\n",
       "        [-1.12955496]],\n",
       "\n",
       "       [[-1.02710813],\n",
       "        [-0.78968941],\n",
       "        [-0.47421755],\n",
       "        [-0.62219635],\n",
       "        [-1.13118143],\n",
       "        [-1.2271235 ],\n",
       "        [-1.70521145],\n",
       "        [-1.6613048 ],\n",
       "        [-1.40437426]],\n",
       "\n",
       "       [[-1.65154824],\n",
       "        [-2.01092675],\n",
       "        [-2.20931694],\n",
       "        [-1.82554606],\n",
       "        [-1.85481672],\n",
       "        [-1.55885782],\n",
       "        [-1.66943603],\n",
       "        [-1.99791724],\n",
       "        [-1.51657765]],\n",
       "\n",
       "       [[-0.90026746],\n",
       "        [-0.05141944],\n",
       "        [-0.02214862],\n",
       "        [ 0.44130449],\n",
       "        [ 0.10469189],\n",
       "        [ 0.00874852],\n",
       "        [-0.28070563],\n",
       "        [ 0.29982914],\n",
       "        [ 0.34373464]],\n",
       "\n",
       "       [[ 0.2884461 ],\n",
       "        [ 0.62018042],\n",
       "        [ 1.11127657],\n",
       "        [ 0.83645841],\n",
       "        [ 1.25600357],\n",
       "        [ 1.58448624],\n",
       "        [ 2.84637727],\n",
       "        [ 1.29828373],\n",
       "        [ 1.10152001]],\n",
       "\n",
       "       [[ 0.75515101],\n",
       "        [ 0.46081745],\n",
       "        [ 0.35837062],\n",
       "        [ 0.67221715],\n",
       "        [ 0.69823486],\n",
       "        [ 0.93565358],\n",
       "        [ 0.44618277],\n",
       "        [ 0.29169791],\n",
       "        [-0.134352  ]],\n",
       "\n",
       "       [[ 0.06729   ],\n",
       "        [-0.30997629],\n",
       "        [-0.26769613],\n",
       "        [-0.19126702],\n",
       "        [-0.52625428],\n",
       "        [-0.53275903],\n",
       "        [-0.08231527],\n",
       "        [-0.2693226 ],\n",
       "        [-0.30184507]]])"
      ]
     },
     "execution_count": 28,
     "metadata": {},
     "output_type": "execute_result"
    }
   ],
   "source": [
    "train_x"
   ]
  },
  {
   "cell_type": "markdown",
   "metadata": {},
   "source": [
    "## Set the target"
   ]
  },
  {
   "cell_type": "code",
   "execution_count": 29,
   "metadata": {},
   "outputs": [
    {
     "data": {
      "text/html": [
       "<div>\n",
       "<style scoped>\n",
       "    .dataframe tbody tr th:only-of-type {\n",
       "        vertical-align: middle;\n",
       "    }\n",
       "\n",
       "    .dataframe tbody tr th {\n",
       "        vertical-align: top;\n",
       "    }\n",
       "\n",
       "    .dataframe thead th {\n",
       "        text-align: right;\n",
       "    }\n",
       "</style>\n",
       "<table border=\"1\" class=\"dataframe\">\n",
       "  <thead>\n",
       "    <tr style=\"text-align: right;\">\n",
       "      <th></th>\n",
       "      <th>9</th>\n",
       "    </tr>\n",
       "  </thead>\n",
       "  <tbody>\n",
       "    <tr>\n",
       "      <th>0</th>\n",
       "      <td>-0.822213</td>\n",
       "    </tr>\n",
       "    <tr>\n",
       "      <th>1</th>\n",
       "      <td>-1.888966</td>\n",
       "    </tr>\n",
       "    <tr>\n",
       "      <th>2</th>\n",
       "      <td>-1.308431</td>\n",
       "    </tr>\n",
       "    <tr>\n",
       "      <th>3</th>\n",
       "      <td>0.148597</td>\n",
       "    </tr>\n",
       "    <tr>\n",
       "      <th>4</th>\n",
       "      <td>1.090137</td>\n",
       "    </tr>\n",
       "    <tr>\n",
       "      <th>5</th>\n",
       "      <td>0.062412</td>\n",
       "    </tr>\n",
       "    <tr>\n",
       "      <th>6</th>\n",
       "      <td>-0.241678</td>\n",
       "    </tr>\n",
       "  </tbody>\n",
       "</table>\n",
       "</div>"
      ],
      "text/plain": [
       "          9\n",
       "0 -0.822213\n",
       "1 -1.888966\n",
       "2 -1.308431\n",
       "3  0.148597\n",
       "4  1.090137\n",
       "5  0.062412\n",
       "6 -0.241678"
      ]
     },
     "execution_count": 29,
     "metadata": {},
     "output_type": "execute_result"
    }
   ],
   "source": [
    "# The last column is TARGET\n",
    "\n",
    "train_target = train[:,-1]\n",
    "\n",
    "\n",
    "pd.DataFrame(train_target, columns=['9'])"
   ]
  },
  {
   "cell_type": "markdown",
   "metadata": {},
   "source": [
    "## Repeat for TEST"
   ]
  },
  {
   "cell_type": "code",
   "execution_count": 30,
   "metadata": {},
   "outputs": [
    {
     "data": {
      "text/plain": [
       "(3, 10)"
      ]
     },
     "execution_count": 30,
     "metadata": {},
     "output_type": "execute_result"
    }
   ],
   "source": [
    "test.shape"
   ]
  },
  {
   "cell_type": "code",
   "execution_count": 31,
   "metadata": {},
   "outputs": [
    {
     "data": {
      "text/plain": [
       "array([[-0.51324477, -0.76041875, -0.48397411, -0.08556838,  0.12908313,\n",
       "         0.75352454,  0.57627378,  0.37463177,  0.84621497,  0.53562008],\n",
       "       [ 0.53724656,  0.44292966,  0.42829498,  0.29820266,  0.78767348,\n",
       "         1.07224935,  1.28202258,  1.13892206,  1.38934769,  0.92589572],\n",
       "       [ 1.08200591,  1.09989354,  0.73401028,  0.39414604,  1.13729559,\n",
       "         1.15518321,  1.19258396,  1.12103427,  1.44626384,  1.36658178]])"
      ]
     },
     "execution_count": 31,
     "metadata": {},
     "output_type": "execute_result"
    }
   ],
   "source": [
    "test"
   ]
  },
  {
   "cell_type": "code",
   "execution_count": 32,
   "metadata": {},
   "outputs": [],
   "source": [
    "test_inputs = test[:, :9]"
   ]
  },
  {
   "cell_type": "code",
   "execution_count": 33,
   "metadata": {},
   "outputs": [
    {
     "data": {
      "text/plain": [
       "array([[-0.51324477, -0.76041875, -0.48397411, -0.08556838,  0.12908313,\n",
       "         0.75352454,  0.57627378,  0.37463177,  0.84621497],\n",
       "       [ 0.53724656,  0.44292966,  0.42829498,  0.29820266,  0.78767348,\n",
       "         1.07224935,  1.28202258,  1.13892206,  1.38934769],\n",
       "       [ 1.08200591,  1.09989354,  0.73401028,  0.39414604,  1.13729559,\n",
       "         1.15518321,  1.19258396,  1.12103427,  1.44626384]])"
      ]
     },
     "execution_count": 33,
     "metadata": {},
     "output_type": "execute_result"
    }
   ],
   "source": [
    "test_inputs"
   ]
  },
  {
   "cell_type": "code",
   "execution_count": 34,
   "metadata": {},
   "outputs": [
    {
     "data": {
      "text/plain": [
       "(3, 9, 1)"
      ]
     },
     "execution_count": 34,
     "metadata": {},
     "output_type": "execute_result"
    }
   ],
   "source": [
    "#Create an additional dimension for test\n",
    "\n",
    "test_x = test_inputs[:,:,np.newaxis]\n",
    "\n",
    "test_x.shape "
   ]
  },
  {
   "cell_type": "code",
   "execution_count": 35,
   "metadata": {},
   "outputs": [
    {
     "data": {
      "text/html": [
       "<div>\n",
       "<style scoped>\n",
       "    .dataframe tbody tr th:only-of-type {\n",
       "        vertical-align: middle;\n",
       "    }\n",
       "\n",
       "    .dataframe tbody tr th {\n",
       "        vertical-align: top;\n",
       "    }\n",
       "\n",
       "    .dataframe thead th {\n",
       "        text-align: right;\n",
       "    }\n",
       "</style>\n",
       "<table border=\"1\" class=\"dataframe\">\n",
       "  <thead>\n",
       "    <tr style=\"text-align: right;\">\n",
       "      <th></th>\n",
       "      <th>9</th>\n",
       "    </tr>\n",
       "  </thead>\n",
       "  <tbody>\n",
       "    <tr>\n",
       "      <th>0</th>\n",
       "      <td>0.535620</td>\n",
       "    </tr>\n",
       "    <tr>\n",
       "      <th>1</th>\n",
       "      <td>0.925896</td>\n",
       "    </tr>\n",
       "    <tr>\n",
       "      <th>2</th>\n",
       "      <td>1.366582</td>\n",
       "    </tr>\n",
       "  </tbody>\n",
       "</table>\n",
       "</div>"
      ],
      "text/plain": [
       "          9\n",
       "0  0.535620\n",
       "1  0.925896\n",
       "2  1.366582"
      ]
     },
     "execution_count": 35,
     "metadata": {},
     "output_type": "execute_result"
    }
   ],
   "source": [
    "test_target = test[:,-1]\n",
    "\n",
    "\n",
    "pd.DataFrame(test_target, columns=['9'])"
   ]
  },
  {
   "cell_type": "code",
   "execution_count": 36,
   "metadata": {},
   "outputs": [],
   "source": [
    "performance = pd.DataFrame({\"model\":[], \"MSE\":[]})"
   ]
  },
  {
   "cell_type": "markdown",
   "metadata": {},
   "source": [
    "# A normal (cross-sectional) NN\n",
    "\n",
    "This model assumes that the data is NOT a time-series data set. It treats the data as cross-sectional and the columns being independent of each other."
   ]
  },
  {
   "cell_type": "code",
   "execution_count": 37,
   "metadata": {},
   "outputs": [
    {
     "name": "stdout",
     "output_type": "stream",
     "text": [
      "Epoch 1/100\n",
      "1/1 [==============================] - 0s 260ms/step - loss: 0.6669\n",
      "Epoch 2/100\n",
      "1/1 [==============================] - 0s 2ms/step - loss: 0.6329\n",
      "Epoch 3/100\n",
      "1/1 [==============================] - 0s 1ms/step - loss: 0.6005\n",
      "Epoch 4/100\n",
      "1/1 [==============================] - 0s 1ms/step - loss: 0.5699\n",
      "Epoch 5/100\n",
      "1/1 [==============================] - 0s 1ms/step - loss: 0.5409\n",
      "Epoch 6/100\n",
      "1/1 [==============================] - 0s 1ms/step - loss: 0.5136\n",
      "Epoch 7/100\n",
      "1/1 [==============================] - 0s 1ms/step - loss: 0.4878\n",
      "Epoch 8/100\n",
      "1/1 [==============================] - 0s 1ms/step - loss: 0.4636\n",
      "Epoch 9/100\n",
      "1/1 [==============================] - 0s 1ms/step - loss: 0.4409\n",
      "Epoch 10/100\n",
      "1/1 [==============================] - 0s 1ms/step - loss: 0.4197\n",
      "Epoch 11/100\n",
      "1/1 [==============================] - 0s 2ms/step - loss: 0.3997\n",
      "Epoch 12/100\n",
      "1/1 [==============================] - 0s 3ms/step - loss: 0.3810\n",
      "Epoch 13/100\n",
      "1/1 [==============================] - 0s 2ms/step - loss: 0.3633\n",
      "Epoch 14/100\n",
      "1/1 [==============================] - 0s 2ms/step - loss: 0.3467\n",
      "Epoch 15/100\n",
      "1/1 [==============================] - 0s 3ms/step - loss: 0.3311\n",
      "Epoch 16/100\n",
      "1/1 [==============================] - 0s 2ms/step - loss: 0.3165\n",
      "Epoch 17/100\n",
      "1/1 [==============================] - 0s 3ms/step - loss: 0.3028\n",
      "Epoch 18/100\n",
      "1/1 [==============================] - 0s 3ms/step - loss: 0.2901\n",
      "Epoch 19/100\n",
      "1/1 [==============================] - 0s 1ms/step - loss: 0.2783\n",
      "Epoch 20/100\n",
      "1/1 [==============================] - 0s 1ms/step - loss: 0.2676\n",
      "Epoch 21/100\n",
      "1/1 [==============================] - 0s 2ms/step - loss: 0.2585\n",
      "Epoch 22/100\n",
      "1/1 [==============================] - 0s 2ms/step - loss: 0.2502\n",
      "Epoch 23/100\n",
      "1/1 [==============================] - 0s 2ms/step - loss: 0.2425\n",
      "Epoch 24/100\n",
      "1/1 [==============================] - 0s 1ms/step - loss: 0.2354\n",
      "Epoch 25/100\n",
      "1/1 [==============================] - 0s 1ms/step - loss: 0.2290\n",
      "Epoch 26/100\n",
      "1/1 [==============================] - 0s 1ms/step - loss: 0.2230\n",
      "Epoch 27/100\n",
      "1/1 [==============================] - 0s 1ms/step - loss: 0.2175\n",
      "Epoch 28/100\n",
      "1/1 [==============================] - 0s 2ms/step - loss: 0.2124\n",
      "Epoch 29/100\n",
      "1/1 [==============================] - 0s 2ms/step - loss: 0.2077\n",
      "Epoch 30/100\n",
      "1/1 [==============================] - 0s 1ms/step - loss: 0.2032\n",
      "Epoch 31/100\n",
      "1/1 [==============================] - 0s 19ms/step - loss: 0.1990\n",
      "Epoch 32/100\n",
      "1/1 [==============================] - 0s 2ms/step - loss: 0.1950\n",
      "Epoch 33/100\n",
      "1/1 [==============================] - 0s 2ms/step - loss: 0.1912\n",
      "Epoch 34/100\n",
      "1/1 [==============================] - 0s 2ms/step - loss: 0.1875\n",
      "Epoch 35/100\n",
      "1/1 [==============================] - 0s 3ms/step - loss: 0.1840\n",
      "Epoch 36/100\n",
      "1/1 [==============================] - 0s 2ms/step - loss: 0.1805\n",
      "Epoch 37/100\n",
      "1/1 [==============================] - 0s 2ms/step - loss: 0.1770\n",
      "Epoch 38/100\n",
      "1/1 [==============================] - 0s 1ms/step - loss: 0.1736\n",
      "Epoch 39/100\n",
      "1/1 [==============================] - 0s 2ms/step - loss: 0.1702\n",
      "Epoch 40/100\n",
      "1/1 [==============================] - 0s 2ms/step - loss: 0.1671\n",
      "Epoch 41/100\n",
      "1/1 [==============================] - 0s 2ms/step - loss: 0.1641\n",
      "Epoch 42/100\n",
      "1/1 [==============================] - 0s 2ms/step - loss: 0.1612\n",
      "Epoch 43/100\n",
      "1/1 [==============================] - 0s 2ms/step - loss: 0.1582\n",
      "Epoch 44/100\n",
      "1/1 [==============================] - 0s 3ms/step - loss: 0.1552\n",
      "Epoch 45/100\n",
      "1/1 [==============================] - 0s 2ms/step - loss: 0.1522\n",
      "Epoch 46/100\n",
      "1/1 [==============================] - 0s 2ms/step - loss: 0.1491\n",
      "Epoch 47/100\n",
      "1/1 [==============================] - 0s 2ms/step - loss: 0.1461\n",
      "Epoch 48/100\n",
      "1/1 [==============================] - 0s 2ms/step - loss: 0.1432\n",
      "Epoch 49/100\n",
      "1/1 [==============================] - 0s 2ms/step - loss: 0.1402\n",
      "Epoch 50/100\n",
      "1/1 [==============================] - 0s 1ms/step - loss: 0.1373\n",
      "Epoch 51/100\n",
      "1/1 [==============================] - 0s 1ms/step - loss: 0.1344\n",
      "Epoch 52/100\n",
      "1/1 [==============================] - 0s 1ms/step - loss: 0.1316\n",
      "Epoch 53/100\n",
      "1/1 [==============================] - 0s 2ms/step - loss: 0.1288\n",
      "Epoch 54/100\n",
      "1/1 [==============================] - 0s 2ms/step - loss: 0.1261\n",
      "Epoch 55/100\n",
      "1/1 [==============================] - 0s 2ms/step - loss: 0.1234\n",
      "Epoch 56/100\n",
      "1/1 [==============================] - 0s 2ms/step - loss: 0.1208\n",
      "Epoch 57/100\n",
      "1/1 [==============================] - 0s 1ms/step - loss: 0.1183\n",
      "Epoch 58/100\n",
      "1/1 [==============================] - 0s 2ms/step - loss: 0.1158\n",
      "Epoch 59/100\n",
      "1/1 [==============================] - 0s 1ms/step - loss: 0.1135\n",
      "Epoch 60/100\n",
      "1/1 [==============================] - 0s 2ms/step - loss: 0.1112\n",
      "Epoch 61/100\n",
      "1/1 [==============================] - 0s 1ms/step - loss: 0.1089\n",
      "Epoch 62/100\n",
      "1/1 [==============================] - 0s 2ms/step - loss: 0.1068\n",
      "Epoch 63/100\n",
      "1/1 [==============================] - 0s 2ms/step - loss: 0.1047\n",
      "Epoch 64/100\n",
      "1/1 [==============================] - 0s 3ms/step - loss: 0.1026\n",
      "Epoch 65/100\n",
      "1/1 [==============================] - 0s 3ms/step - loss: 0.1005\n",
      "Epoch 66/100\n",
      "1/1 [==============================] - 0s 3ms/step - loss: 0.0985\n",
      "Epoch 67/100\n",
      "1/1 [==============================] - 0s 3ms/step - loss: 0.0965\n",
      "Epoch 68/100\n",
      "1/1 [==============================] - 0s 2ms/step - loss: 0.0946\n",
      "Epoch 69/100\n",
      "1/1 [==============================] - 0s 3ms/step - loss: 0.0928\n",
      "Epoch 70/100\n",
      "1/1 [==============================] - 0s 2ms/step - loss: 0.0910\n",
      "Epoch 71/100\n",
      "1/1 [==============================] - 0s 2ms/step - loss: 0.0892\n",
      "Epoch 72/100\n",
      "1/1 [==============================] - 0s 2ms/step - loss: 0.0874\n",
      "Epoch 73/100\n",
      "1/1 [==============================] - 0s 2ms/step - loss: 0.0857\n",
      "Epoch 74/100\n",
      "1/1 [==============================] - 0s 2ms/step - loss: 0.0840\n",
      "Epoch 75/100\n",
      "1/1 [==============================] - 0s 2ms/step - loss: 0.0823\n",
      "Epoch 76/100\n",
      "1/1 [==============================] - 0s 2ms/step - loss: 0.0806\n",
      "Epoch 77/100\n",
      "1/1 [==============================] - 0s 2ms/step - loss: 0.0790\n",
      "Epoch 78/100\n",
      "1/1 [==============================] - 0s 2ms/step - loss: 0.0774\n",
      "Epoch 79/100\n",
      "1/1 [==============================] - 0s 1ms/step - loss: 0.0758\n",
      "Epoch 80/100\n",
      "1/1 [==============================] - 0s 2ms/step - loss: 0.0743\n",
      "Epoch 81/100\n",
      "1/1 [==============================] - 0s 2ms/step - loss: 0.0728\n",
      "Epoch 82/100\n",
      "1/1 [==============================] - 0s 1ms/step - loss: 0.0713\n",
      "Epoch 83/100\n",
      "1/1 [==============================] - 0s 2ms/step - loss: 0.0698\n",
      "Epoch 84/100\n",
      "1/1 [==============================] - 0s 2ms/step - loss: 0.0684\n",
      "Epoch 85/100\n",
      "1/1 [==============================] - 0s 2ms/step - loss: 0.0670\n",
      "Epoch 86/100\n",
      "1/1 [==============================] - 0s 2ms/step - loss: 0.0656\n",
      "Epoch 87/100\n",
      "1/1 [==============================] - 0s 2ms/step - loss: 0.0642\n",
      "Epoch 88/100\n",
      "1/1 [==============================] - 0s 2ms/step - loss: 0.0629\n",
      "Epoch 89/100\n",
      "1/1 [==============================] - 0s 2ms/step - loss: 0.0616\n",
      "Epoch 90/100\n",
      "1/1 [==============================] - 0s 3ms/step - loss: 0.0603\n",
      "Epoch 91/100\n",
      "1/1 [==============================] - 0s 2ms/step - loss: 0.0590\n",
      "Epoch 92/100\n",
      "1/1 [==============================] - 0s 3ms/step - loss: 0.0578\n",
      "Epoch 93/100\n",
      "1/1 [==============================] - 0s 3ms/step - loss: 0.0566\n",
      "Epoch 94/100\n",
      "1/1 [==============================] - 0s 2ms/step - loss: 0.0554\n",
      "Epoch 95/100\n",
      "1/1 [==============================] - 0s 2ms/step - loss: 0.0542\n",
      "Epoch 96/100\n",
      "1/1 [==============================] - 0s 4ms/step - loss: 0.0531\n",
      "Epoch 97/100\n",
      "1/1 [==============================] - 0s 4ms/step - loss: 0.0520\n",
      "Epoch 98/100\n",
      "1/1 [==============================] - 0s 3ms/step - loss: 0.0509\n",
      "Epoch 99/100\n",
      "1/1 [==============================] - 0s 3ms/step - loss: 0.0498\n",
      "Epoch 100/100\n",
      "1/1 [==============================] - 0s 3ms/step - loss: 0.0487\n"
     ]
    }
   ],
   "source": [
    "model = keras.models.Sequential([\n",
    "    keras.layers.Flatten(input_shape=[9, 1]),\n",
    "    keras.layers.Dense(23, activation='relu'),\n",
    "    keras.layers.Dense(1, activation=None)\n",
    "    \n",
    "])\n",
    "\n",
    "model.compile(loss=\"mse\", optimizer='Adam')\n",
    "\n",
    "history = model.fit(train_x, train_target, epochs=100)"
   ]
  },
  {
   "cell_type": "markdown",
   "metadata": {},
   "source": [
    "### Predictions"
   ]
  },
  {
   "cell_type": "code",
   "execution_count": 38,
   "metadata": {},
   "outputs": [
    {
     "name": "stdout",
     "output_type": "stream",
     "text": [
      "1/1 [==============================] - 0s 40ms/step\n"
     ]
    }
   ],
   "source": [
    "#Predict:\n",
    "y_pred = model.predict(test_x)"
   ]
  },
  {
   "cell_type": "code",
   "execution_count": 39,
   "metadata": {},
   "outputs": [],
   "source": [
    "# Remember, these are standardized values. \n",
    "\n",
    "comparison = pd.DataFrame()\n",
    "\n",
    "comparison['actual'] = scaler.inverse_transform([test_target]).flatten()\n",
    "comparison['predicted'] = scaler.inverse_transform(y_pred).flatten()"
   ]
  },
  {
   "cell_type": "code",
   "execution_count": 40,
   "metadata": {},
   "outputs": [
    {
     "data": {
      "text/html": [
       "<div>\n",
       "<style scoped>\n",
       "    .dataframe tbody tr th:only-of-type {\n",
       "        vertical-align: middle;\n",
       "    }\n",
       "\n",
       "    .dataframe tbody tr th {\n",
       "        vertical-align: top;\n",
       "    }\n",
       "\n",
       "    .dataframe thead th {\n",
       "        text-align: right;\n",
       "    }\n",
       "</style>\n",
       "<table border=\"1\" class=\"dataframe\">\n",
       "  <thead>\n",
       "    <tr style=\"text-align: right;\">\n",
       "      <th></th>\n",
       "      <th>actual</th>\n",
       "      <th>predicted</th>\n",
       "    </tr>\n",
       "  </thead>\n",
       "  <tbody>\n",
       "    <tr>\n",
       "      <th>0</th>\n",
       "      <td>98.699997</td>\n",
       "      <td>97.490318</td>\n",
       "    </tr>\n",
       "    <tr>\n",
       "      <th>1</th>\n",
       "      <td>101.099998</td>\n",
       "      <td>97.785789</td>\n",
       "    </tr>\n",
       "    <tr>\n",
       "      <th>2</th>\n",
       "      <td>103.809998</td>\n",
       "      <td>96.093056</td>\n",
       "    </tr>\n",
       "  </tbody>\n",
       "</table>\n",
       "</div>"
      ],
      "text/plain": [
       "       actual  predicted\n",
       "0   98.699997  97.490318\n",
       "1  101.099998  97.785789\n",
       "2  103.809998  96.093056"
      ]
     },
     "execution_count": 40,
     "metadata": {},
     "output_type": "execute_result"
    }
   ],
   "source": [
    "comparison"
   ]
  },
  {
   "cell_type": "code",
   "execution_count": 41,
   "metadata": {},
   "outputs": [],
   "source": [
    "cs_nn = mean_squared_error(comparison['actual'], comparison['predicted'])"
   ]
  },
  {
   "cell_type": "code",
   "execution_count": 42,
   "metadata": {},
   "outputs": [
    {
     "data": {
      "text/html": [
       "<div>\n",
       "<style scoped>\n",
       "    .dataframe tbody tr th:only-of-type {\n",
       "        vertical-align: middle;\n",
       "    }\n",
       "\n",
       "    .dataframe tbody tr th {\n",
       "        vertical-align: top;\n",
       "    }\n",
       "\n",
       "    .dataframe thead th {\n",
       "        text-align: right;\n",
       "    }\n",
       "</style>\n",
       "<table border=\"1\" class=\"dataframe\">\n",
       "  <thead>\n",
       "    <tr style=\"text-align: right;\">\n",
       "      <th></th>\n",
       "      <th>model</th>\n",
       "      <th>MSE</th>\n",
       "    </tr>\n",
       "  </thead>\n",
       "  <tbody>\n",
       "    <tr>\n",
       "      <th>0</th>\n",
       "      <td>Cross NN</td>\n",
       "      <td>23.9995</td>\n",
       "    </tr>\n",
       "  </tbody>\n",
       "</table>\n",
       "</div>"
      ],
      "text/plain": [
       "      model      MSE\n",
       "0  Cross NN  23.9995"
      ]
     },
     "execution_count": 42,
     "metadata": {},
     "output_type": "execute_result"
    }
   ],
   "source": [
    "performance = pd.concat([performance, pd.DataFrame({'model':\"Cross NN\", 'MSE': cs_nn}, index =[0])])\n",
    "performance"
   ]
  },
  {
   "cell_type": "code",
   "execution_count": 43,
   "metadata": {},
   "outputs": [
    {
     "data": {
      "image/png": "[encoded data removed]",
      "text/plain": [
       "<Figure size 640x480 with 1 Axes>"
      ]
     },
     "metadata": {},
     "output_type": "display_data"
    }
   ],
   "source": [
    "plt.plot(comparison['actual'], label = 'actual')\n",
    "plt.plot(comparison['predicted'], label = 'predicted')\n",
    "\n",
    "plt.legend()\n",
    "\n",
    "plt.show()"
   ]
  },
  {
   "cell_type": "markdown",
   "metadata": {},
   "source": [
    "# Simple RNN\n",
    "\n",
    "Simplest recurrent neural network"
   ]
  },
  {
   "cell_type": "code",
   "execution_count": 44,
   "metadata": {},
   "outputs": [],
   "source": [
    "model = keras.models.Sequential([\n",
    "    keras.layers.SimpleRNN(32, activation='relu', input_shape=[9, 1]),\n",
    "    keras.layers.Dense(1, activation=None)\n",
    "])"
   ]
  },
  {
   "cell_type": "code",
   "execution_count": 45,
   "metadata": {
    "scrolled": true
   },
   "outputs": [
    {
     "name": "stdout",
     "output_type": "stream",
     "text": [
      "Epoch 1/30\n",
      "1/1 [==============================] - 0s 305ms/step - loss: 0.8144\n",
      "Epoch 2/30\n",
      "1/1 [==============================] - 0s 3ms/step - loss: 0.7660\n",
      "Epoch 3/30\n",
      "1/1 [==============================] - 0s 2ms/step - loss: 0.7231\n",
      "Epoch 4/30\n",
      "1/1 [==============================] - 0s 3ms/step - loss: 0.6846\n",
      "Epoch 5/30\n",
      "1/1 [==============================] - 0s 3ms/step - loss: 0.6484\n",
      "Epoch 6/30\n",
      "1/1 [==============================] - 0s 3ms/step - loss: 0.6136\n",
      "Epoch 7/30\n",
      "1/1 [==============================] - 0s 2ms/step - loss: 0.5812\n",
      "Epoch 8/30\n",
      "1/1 [==============================] - 0s 3ms/step - loss: 0.5517\n",
      "Epoch 9/30\n",
      "1/1 [==============================] - 0s 3ms/step - loss: 0.5242\n",
      "Epoch 10/30\n",
      "1/1 [==============================] - 0s 3ms/step - loss: 0.4983\n",
      "Epoch 11/30\n",
      "1/1 [==============================] - 0s 2ms/step - loss: 0.4731\n",
      "Epoch 12/30\n",
      "1/1 [==============================] - 0s 2ms/step - loss: 0.4489\n",
      "Epoch 13/30\n",
      "1/1 [==============================] - 0s 2ms/step - loss: 0.4274\n",
      "Epoch 14/30\n",
      "1/1 [==============================] - 0s 2ms/step - loss: 0.4073\n",
      "Epoch 15/30\n",
      "1/1 [==============================] - 0s 2ms/step - loss: 0.3891\n",
      "Epoch 16/30\n",
      "1/1 [==============================] - 0s 2ms/step - loss: 0.3719\n",
      "Epoch 17/30\n",
      "1/1 [==============================] - 0s 2ms/step - loss: 0.3551\n",
      "Epoch 18/30\n",
      "1/1 [==============================] - 0s 2ms/step - loss: 0.3388\n",
      "Epoch 19/30\n",
      "1/1 [==============================] - 0s 2ms/step - loss: 0.3229\n",
      "Epoch 20/30\n",
      "1/1 [==============================] - 0s 2ms/step - loss: 0.3075\n",
      "Epoch 21/30\n",
      "1/1 [==============================] - 0s 3ms/step - loss: 0.2926\n",
      "Epoch 22/30\n",
      "1/1 [==============================] - 0s 2ms/step - loss: 0.2782\n",
      "Epoch 23/30\n",
      "1/1 [==============================] - 0s 2ms/step - loss: 0.2641\n",
      "Epoch 24/30\n",
      "1/1 [==============================] - 0s 2ms/step - loss: 0.2503\n",
      "Epoch 25/30\n",
      "1/1 [==============================] - 0s 2ms/step - loss: 0.2369\n",
      "Epoch 26/30\n",
      "1/1 [==============================] - 0s 2ms/step - loss: 0.2235\n",
      "Epoch 27/30\n",
      "1/1 [==============================] - 0s 3ms/step - loss: 0.2104\n",
      "Epoch 28/30\n",
      "1/1 [==============================] - 0s 2ms/step - loss: 0.1977\n",
      "Epoch 29/30\n",
      "1/1 [==============================] - 0s 2ms/step - loss: 0.1853\n",
      "Epoch 30/30\n",
      "1/1 [==============================] - 0s 2ms/step - loss: 0.1732\n"
     ]
    }
   ],
   "source": [
    "np.random.seed(42)\n",
    "tf.random.set_seed(42)\n",
    "\n",
    "model.compile(loss=\"mse\", optimizer='Adam')\n",
    "\n",
    "history = model.fit(train_x, train_target, epochs=30)"
   ]
  },
  {
   "cell_type": "markdown",
   "metadata": {},
   "source": [
    "### Predictions"
   ]
  },
  {
   "cell_type": "code",
   "execution_count": 46,
   "metadata": {},
   "outputs": [
    {
     "name": "stdout",
     "output_type": "stream",
     "text": [
      "1/1 [==============================] - 0s 71ms/step\n"
     ]
    }
   ],
   "source": [
    "#Predict:\n",
    "y_pred = model.predict(test_x)"
   ]
  },
  {
   "cell_type": "code",
   "execution_count": 47,
   "metadata": {},
   "outputs": [],
   "source": [
    "#Remember, these are standardized values. \n",
    "\n",
    "comparison = pd.DataFrame()\n",
    "\n",
    "comparison['actual'] = scaler.inverse_transform([test_target]).flatten()\n",
    "comparison['predicted'] = scaler.inverse_transform(y_pred).flatten()"
   ]
  },
  {
   "cell_type": "code",
   "execution_count": 48,
   "metadata": {},
   "outputs": [
    {
     "data": {
      "text/html": [
       "<div>\n",
       "<style scoped>\n",
       "    .dataframe tbody tr th:only-of-type {\n",
       "        vertical-align: middle;\n",
       "    }\n",
       "\n",
       "    .dataframe tbody tr th {\n",
       "        vertical-align: top;\n",
       "    }\n",
       "\n",
       "    .dataframe thead th {\n",
       "        text-align: right;\n",
       "    }\n",
       "</style>\n",
       "<table border=\"1\" class=\"dataframe\">\n",
       "  <thead>\n",
       "    <tr style=\"text-align: right;\">\n",
       "      <th></th>\n",
       "      <th>actual</th>\n",
       "      <th>predicted</th>\n",
       "    </tr>\n",
       "  </thead>\n",
       "  <tbody>\n",
       "    <tr>\n",
       "      <th>0</th>\n",
       "      <td>98.699997</td>\n",
       "      <td>98.058800</td>\n",
       "    </tr>\n",
       "    <tr>\n",
       "      <th>1</th>\n",
       "      <td>101.099998</td>\n",
       "      <td>101.108711</td>\n",
       "    </tr>\n",
       "    <tr>\n",
       "      <th>2</th>\n",
       "      <td>103.809998</td>\n",
       "      <td>100.929008</td>\n",
       "    </tr>\n",
       "  </tbody>\n",
       "</table>\n",
       "</div>"
      ],
      "text/plain": [
       "       actual   predicted\n",
       "0   98.699997   98.058800\n",
       "1  101.099998  101.108711\n",
       "2  103.809998  100.929008"
      ]
     },
     "execution_count": 48,
     "metadata": {},
     "output_type": "execute_result"
    }
   ],
   "source": [
    "comparison"
   ]
  },
  {
   "cell_type": "code",
   "execution_count": 49,
   "metadata": {},
   "outputs": [],
   "source": [
    "s_rnn = mean_squared_error(comparison['actual'], comparison['predicted'])"
   ]
  },
  {
   "cell_type": "code",
   "execution_count": 50,
   "metadata": {},
   "outputs": [
    {
     "data": {
      "text/html": [
       "<div>\n",
       "<style scoped>\n",
       "    .dataframe tbody tr th:only-of-type {\n",
       "        vertical-align: middle;\n",
       "    }\n",
       "\n",
       "    .dataframe tbody tr th {\n",
       "        vertical-align: top;\n",
       "    }\n",
       "\n",
       "    .dataframe thead th {\n",
       "        text-align: right;\n",
       "    }\n",
       "</style>\n",
       "<table border=\"1\" class=\"dataframe\">\n",
       "  <thead>\n",
       "    <tr style=\"text-align: right;\">\n",
       "      <th></th>\n",
       "      <th>model</th>\n",
       "      <th>MSE</th>\n",
       "    </tr>\n",
       "  </thead>\n",
       "  <tbody>\n",
       "    <tr>\n",
       "      <th>0</th>\n",
       "      <td>Cross NN</td>\n",
       "      <td>23.99950</td>\n",
       "    </tr>\n",
       "    <tr>\n",
       "      <th>0</th>\n",
       "      <td>Simple RNN</td>\n",
       "      <td>2.90377</td>\n",
       "    </tr>\n",
       "  </tbody>\n",
       "</table>\n",
       "</div>"
      ],
      "text/plain": [
       "        model       MSE\n",
       "0    Cross NN  23.99950\n",
       "0  Simple RNN   2.90377"
      ]
     },
     "execution_count": 50,
     "metadata": {},
     "output_type": "execute_result"
    }
   ],
   "source": [
    "performance = pd.concat([performance, pd.DataFrame({'model':\"Simple RNN\", 'MSE' : s_rnn}, index =[0])])\n",
    "performance"
   ]
  },
  {
   "cell_type": "code",
   "execution_count": 51,
   "metadata": {},
   "outputs": [
    {
     "data": {
      "image/png": "[encoded data removed]",
      "text/plain": [
       "<Figure size 640x480 with 1 Axes>"
      ]
     },
     "metadata": {},
     "output_type": "display_data"
    }
   ],
   "source": [
    "plt.plot(comparison['actual'], label = 'actual')\n",
    "plt.plot(comparison['predicted'], label = 'predicted')\n",
    "\n",
    "plt.legend()\n",
    "\n",
    "plt.show()"
   ]
  },
  {
   "cell_type": "markdown",
   "metadata": {},
   "source": [
    "## Simple RNN with more layers\n",
    "\n",
    "**Be careful: when stacking RNN layers, you have to set \"return_sequences\" to True. This enables the layer to send a \"sequence\" of values to the next layer -- jut like how it uses a sequence of values for training. However, if the output of RNN is sent to a DENSE layer, then a single value should be sent. That's why there is no \"return sequences\" right before DENSE layers.**"
   ]
  },
  {
   "cell_type": "code",
   "execution_count": 52,
   "metadata": {},
   "outputs": [],
   "source": [
    "model = keras.models.Sequential([\n",
    "    keras.layers.SimpleRNN(32, activation='relu', return_sequences=True, input_shape=[9, 1]),\n",
    "    keras.layers.SimpleRNN(32, activation='relu', return_sequences=False),\n",
    "    keras.layers.Dense(1, activation=None)\n",
    "])"
   ]
  },
  {
   "cell_type": "code",
   "execution_count": 53,
   "metadata": {
    "scrolled": true
   },
   "outputs": [
    {
     "name": "stdout",
     "output_type": "stream",
     "text": [
      "Epoch 1/30\n",
      "1/1 [==============================] - 0s 496ms/step - loss: 0.5894\n",
      "Epoch 2/30\n",
      "1/1 [==============================] - 0s 4ms/step - loss: 0.5006\n",
      "Epoch 3/30\n",
      "1/1 [==============================] - 0s 4ms/step - loss: 0.4315\n",
      "Epoch 4/30\n",
      "1/1 [==============================] - 0s 4ms/step - loss: 0.3738\n",
      "Epoch 5/30\n",
      "1/1 [==============================] - 0s 6ms/step - loss: 0.3242\n",
      "Epoch 6/30\n",
      "1/1 [==============================] - 0s 5ms/step - loss: 0.2808\n",
      "Epoch 7/30\n",
      "1/1 [==============================] - 0s 4ms/step - loss: 0.2419\n",
      "Epoch 8/30\n",
      "1/1 [==============================] - 0s 3ms/step - loss: 0.2079\n",
      "Epoch 9/30\n",
      "1/1 [==============================] - 0s 4ms/step - loss: 0.1801\n",
      "Epoch 10/30\n",
      "1/1 [==============================] - 0s 5ms/step - loss: 0.1601\n",
      "Epoch 11/30\n",
      "1/1 [==============================] - 0s 4ms/step - loss: 0.1416\n",
      "Epoch 12/30\n",
      "1/1 [==============================] - 0s 4ms/step - loss: 0.1236\n",
      "Epoch 13/30\n",
      "1/1 [==============================] - 0s 3ms/step - loss: 0.1065\n",
      "Epoch 14/30\n",
      "1/1 [==============================] - 0s 3ms/step - loss: 0.0930\n",
      "Epoch 15/30\n",
      "1/1 [==============================] - 0s 3ms/step - loss: 0.0821\n",
      "Epoch 16/30\n",
      "1/1 [==============================] - 0s 3ms/step - loss: 0.0728\n",
      "Epoch 17/30\n",
      "1/1 [==============================] - 0s 3ms/step - loss: 0.0639\n",
      "Epoch 18/30\n",
      "1/1 [==============================] - 0s 3ms/step - loss: 0.0553\n",
      "Epoch 19/30\n",
      "1/1 [==============================] - 0s 2ms/step - loss: 0.0470\n",
      "Epoch 20/30\n",
      "1/1 [==============================] - 0s 3ms/step - loss: 0.0397\n",
      "Epoch 21/30\n",
      "1/1 [==============================] - 0s 3ms/step - loss: 0.0334\n",
      "Epoch 22/30\n",
      "1/1 [==============================] - 0s 3ms/step - loss: 0.0279\n",
      "Epoch 23/30\n",
      "1/1 [==============================] - 0s 3ms/step - loss: 0.0234\n",
      "Epoch 24/30\n",
      "1/1 [==============================] - 0s 2ms/step - loss: 0.0199\n",
      "Epoch 25/30\n",
      "1/1 [==============================] - 0s 2ms/step - loss: 0.0171\n",
      "Epoch 26/30\n",
      "1/1 [==============================] - 0s 2ms/step - loss: 0.0154\n",
      "Epoch 27/30\n",
      "1/1 [==============================] - 0s 3ms/step - loss: 0.0144\n",
      "Epoch 28/30\n",
      "1/1 [==============================] - 0s 3ms/step - loss: 0.0139\n",
      "Epoch 29/30\n",
      "1/1 [==============================] - 0s 3ms/step - loss: 0.0135\n",
      "Epoch 30/30\n",
      "1/1 [==============================] - 0s 3ms/step - loss: 0.0128\n"
     ]
    }
   ],
   "source": [
    "np.random.seed(42)\n",
    "tf.random.set_seed(42)\n",
    "\n",
    "model.compile(loss=\"mse\", optimizer='Adam')\n",
    "\n",
    "history = model.fit(train_x, train_target, epochs=30)"
   ]
  },
  {
   "cell_type": "markdown",
   "metadata": {},
   "source": [
    "### Predictions"
   ]
  },
  {
   "cell_type": "code",
   "execution_count": 54,
   "metadata": {},
   "outputs": [
    {
     "name": "stdout",
     "output_type": "stream",
     "text": [
      "1/1 [==============================] - 0s 96ms/step\n"
     ]
    }
   ],
   "source": [
    "#Predict:\n",
    "y_pred = model.predict(test_x)\n"
   ]
  },
  {
   "cell_type": "code",
   "execution_count": 55,
   "metadata": {},
   "outputs": [],
   "source": [
    "#Remember, these are standardized values. \n",
    "\n",
    "comparison = pd.DataFrame()\n",
    "\n",
    "comparison['actual'] = scaler.inverse_transform([test_target]).flatten()\n",
    "comparison['predicted'] = scaler.inverse_transform(y_pred).flatten()"
   ]
  },
  {
   "cell_type": "code",
   "execution_count": 56,
   "metadata": {},
   "outputs": [
    {
     "data": {
      "text/html": [
       "<div>\n",
       "<style scoped>\n",
       "    .dataframe tbody tr th:only-of-type {\n",
       "        vertical-align: middle;\n",
       "    }\n",
       "\n",
       "    .dataframe tbody tr th {\n",
       "        vertical-align: top;\n",
       "    }\n",
       "\n",
       "    .dataframe thead th {\n",
       "        text-align: right;\n",
       "    }\n",
       "</style>\n",
       "<table border=\"1\" class=\"dataframe\">\n",
       "  <thead>\n",
       "    <tr style=\"text-align: right;\">\n",
       "      <th></th>\n",
       "      <th>actual</th>\n",
       "      <th>predicted</th>\n",
       "    </tr>\n",
       "  </thead>\n",
       "  <tbody>\n",
       "    <tr>\n",
       "      <th>0</th>\n",
       "      <td>98.699997</td>\n",
       "      <td>98.160835</td>\n",
       "    </tr>\n",
       "    <tr>\n",
       "      <th>1</th>\n",
       "      <td>101.099998</td>\n",
       "      <td>101.179741</td>\n",
       "    </tr>\n",
       "    <tr>\n",
       "      <th>2</th>\n",
       "      <td>103.809998</td>\n",
       "      <td>101.364212</td>\n",
       "    </tr>\n",
       "  </tbody>\n",
       "</table>\n",
       "</div>"
      ],
      "text/plain": [
       "       actual   predicted\n",
       "0   98.699997   98.160835\n",
       "1  101.099998  101.179741\n",
       "2  103.809998  101.364212"
      ]
     },
     "execution_count": 56,
     "metadata": {},
     "output_type": "execute_result"
    }
   ],
   "source": [
    "comparison"
   ]
  },
  {
   "cell_type": "code",
   "execution_count": 57,
   "metadata": {},
   "outputs": [],
   "source": [
    "sml_rnn = mean_squared_error(comparison['actual'], comparison['predicted'])"
   ]
  },
  {
   "cell_type": "code",
   "execution_count": 58,
   "metadata": {},
   "outputs": [
    {
     "data": {
      "text/html": [
       "<div>\n",
       "<style scoped>\n",
       "    .dataframe tbody tr th:only-of-type {\n",
       "        vertical-align: middle;\n",
       "    }\n",
       "\n",
       "    .dataframe tbody tr th {\n",
       "        vertical-align: top;\n",
       "    }\n",
       "\n",
       "    .dataframe thead th {\n",
       "        text-align: right;\n",
       "    }\n",
       "</style>\n",
       "<table border=\"1\" class=\"dataframe\">\n",
       "  <thead>\n",
       "    <tr style=\"text-align: right;\">\n",
       "      <th></th>\n",
       "      <th>model</th>\n",
       "      <th>MSE</th>\n",
       "    </tr>\n",
       "  </thead>\n",
       "  <tbody>\n",
       "    <tr>\n",
       "      <th>0</th>\n",
       "      <td>Cross NN</td>\n",
       "      <td>23.999500</td>\n",
       "    </tr>\n",
       "    <tr>\n",
       "      <th>0</th>\n",
       "      <td>Simple RNN</td>\n",
       "      <td>2.903770</td>\n",
       "    </tr>\n",
       "    <tr>\n",
       "      <th>0</th>\n",
       "      <td>Simple RNN more layers</td>\n",
       "      <td>2.092974</td>\n",
       "    </tr>\n",
       "  </tbody>\n",
       "</table>\n",
       "</div>"
      ],
      "text/plain": [
       "                    model        MSE\n",
       "0                Cross NN  23.999500\n",
       "0              Simple RNN   2.903770\n",
       "0  Simple RNN more layers   2.092974"
      ]
     },
     "execution_count": 58,
     "metadata": {},
     "output_type": "execute_result"
    }
   ],
   "source": [
    "performance = pd.concat([performance, pd.DataFrame({'model':\"Simple RNN more layers\", 'MSE' : sml_rnn}, index =[0])])\n",
    "performance"
   ]
  },
  {
   "cell_type": "code",
   "execution_count": 59,
   "metadata": {},
   "outputs": [
    {
     "data": {
      "image/png": "[encoded data removed]",
      "text/plain": [
       "<Figure size 640x480 with 1 Axes>"
      ]
     },
     "metadata": {},
     "output_type": "display_data"
    }
   ],
   "source": [
    "plt.plot(comparison['actual'], label = 'actual')\n",
    "plt.plot(comparison['predicted'], label = 'predicted')\n",
    "\n",
    "plt.legend()\n",
    "\n",
    "plt.show()"
   ]
  },
  {
   "cell_type": "markdown",
   "metadata": {},
   "source": [
    "# LSTM with one layer"
   ]
  },
  {
   "cell_type": "code",
   "execution_count": 60,
   "metadata": {
    "scrolled": true
   },
   "outputs": [],
   "source": [
    "model = keras.models.Sequential([\n",
    "    keras.layers.LSTM(32, activation='relu', input_shape=[9, 1]),\n",
    "    keras.layers.Dense(1, activation=None)\n",
    "])"
   ]
  },
  {
   "cell_type": "code",
   "execution_count": 61,
   "metadata": {
    "scrolled": true
   },
   "outputs": [
    {
     "name": "stdout",
     "output_type": "stream",
     "text": [
      "Epoch 1/30\n",
      "1/1 [==============================] - 0s 430ms/step - loss: 1.2319\n",
      "Epoch 2/30\n",
      "1/1 [==============================] - 0s 4ms/step - loss: 1.1975\n",
      "Epoch 3/30\n",
      "1/1 [==============================] - 0s 4ms/step - loss: 1.1634\n",
      "Epoch 4/30\n",
      "1/1 [==============================] - 0s 3ms/step - loss: 1.1298\n",
      "Epoch 5/30\n",
      "1/1 [==============================] - 0s 4ms/step - loss: 1.0965\n",
      "Epoch 6/30\n",
      "1/1 [==============================] - 0s 5ms/step - loss: 1.0637\n",
      "Epoch 7/30\n",
      "1/1 [==============================] - 0s 4ms/step - loss: 1.0312\n",
      "Epoch 8/30\n",
      "1/1 [==============================] - 0s 3ms/step - loss: 0.9990\n",
      "Epoch 9/30\n",
      "1/1 [==============================] - 0s 3ms/step - loss: 0.9673\n",
      "Epoch 10/30\n",
      "1/1 [==============================] - 0s 4ms/step - loss: 0.9360\n",
      "Epoch 11/30\n",
      "1/1 [==============================] - 0s 3ms/step - loss: 0.9050\n",
      "Epoch 12/30\n",
      "1/1 [==============================] - 0s 2ms/step - loss: 0.8743\n",
      "Epoch 13/30\n",
      "1/1 [==============================] - 0s 3ms/step - loss: 0.8439\n",
      "Epoch 14/30\n",
      "1/1 [==============================] - 0s 3ms/step - loss: 0.8137\n",
      "Epoch 15/30\n",
      "1/1 [==============================] - 0s 3ms/step - loss: 0.7839\n",
      "Epoch 16/30\n",
      "1/1 [==============================] - 0s 2ms/step - loss: 0.7544\n",
      "Epoch 17/30\n",
      "1/1 [==============================] - 0s 2ms/step - loss: 0.7253\n",
      "Epoch 18/30\n",
      "1/1 [==============================] - 0s 3ms/step - loss: 0.6963\n",
      "Epoch 19/30\n",
      "1/1 [==============================] - 0s 3ms/step - loss: 0.6677\n",
      "Epoch 20/30\n",
      "1/1 [==============================] - 0s 3ms/step - loss: 0.6393\n",
      "Epoch 21/30\n",
      "1/1 [==============================] - 0s 2ms/step - loss: 0.6111\n",
      "Epoch 22/30\n",
      "1/1 [==============================] - 0s 3ms/step - loss: 0.5830\n",
      "Epoch 23/30\n",
      "1/1 [==============================] - 0s 3ms/step - loss: 0.5549\n",
      "Epoch 24/30\n",
      "1/1 [==============================] - 0s 3ms/step - loss: 0.5270\n",
      "Epoch 25/30\n",
      "1/1 [==============================] - 0s 3ms/step - loss: 0.4993\n",
      "Epoch 26/30\n",
      "1/1 [==============================] - 0s 2ms/step - loss: 0.4718\n",
      "Epoch 27/30\n",
      "1/1 [==============================] - 0s 2ms/step - loss: 0.4451\n",
      "Epoch 28/30\n",
      "1/1 [==============================] - 0s 3ms/step - loss: 0.4188\n",
      "Epoch 29/30\n",
      "1/1 [==============================] - 0s 3ms/step - loss: 0.3938\n",
      "Epoch 30/30\n",
      "1/1 [==============================] - 0s 3ms/step - loss: 0.3704\n"
     ]
    }
   ],
   "source": [
    "np.random.seed(42)\n",
    "tf.random.set_seed(42)\n",
    "\n",
    "model.compile(loss=\"mse\", optimizer='Adam')\n",
    "\n",
    "history = model.fit(train_x, train_target, epochs=30)"
   ]
  },
  {
   "cell_type": "markdown",
   "metadata": {},
   "source": [
    "### Predictions"
   ]
  },
  {
   "cell_type": "code",
   "execution_count": 62,
   "metadata": {},
   "outputs": [
    {
     "name": "stdout",
     "output_type": "stream",
     "text": [
      "1/1 [==============================] - 0s 73ms/step\n"
     ]
    }
   ],
   "source": [
    "#Predict:\n",
    "y_pred = model.predict(test_x)\n"
   ]
  },
  {
   "cell_type": "code",
   "execution_count": 63,
   "metadata": {},
   "outputs": [],
   "source": [
    "#Remember, these are standardized values. \n",
    "\n",
    "comparison = pd.DataFrame()\n",
    "\n",
    "comparison['actual'] = scaler.inverse_transform([test_target]).flatten()\n",
    "comparison['predicted'] = scaler.inverse_transform(y_pred).flatten()"
   ]
  },
  {
   "cell_type": "code",
   "execution_count": 64,
   "metadata": {},
   "outputs": [],
   "source": [
    "lstm_1 = mean_squared_error(comparison['actual'], comparison['predicted'])"
   ]
  },
  {
   "cell_type": "code",
   "execution_count": 65,
   "metadata": {},
   "outputs": [
    {
     "data": {
      "text/html": [
       "<div>\n",
       "<style scoped>\n",
       "    .dataframe tbody tr th:only-of-type {\n",
       "        vertical-align: middle;\n",
       "    }\n",
       "\n",
       "    .dataframe tbody tr th {\n",
       "        vertical-align: top;\n",
       "    }\n",
       "\n",
       "    .dataframe thead th {\n",
       "        text-align: right;\n",
       "    }\n",
       "</style>\n",
       "<table border=\"1\" class=\"dataframe\">\n",
       "  <thead>\n",
       "    <tr style=\"text-align: right;\">\n",
       "      <th></th>\n",
       "      <th>model</th>\n",
       "      <th>MSE</th>\n",
       "    </tr>\n",
       "  </thead>\n",
       "  <tbody>\n",
       "    <tr>\n",
       "      <th>0</th>\n",
       "      <td>Cross NN</td>\n",
       "      <td>23.999500</td>\n",
       "    </tr>\n",
       "    <tr>\n",
       "      <th>0</th>\n",
       "      <td>Simple RNN</td>\n",
       "      <td>2.903770</td>\n",
       "    </tr>\n",
       "    <tr>\n",
       "      <th>0</th>\n",
       "      <td>Simple RNN more layers</td>\n",
       "      <td>2.092974</td>\n",
       "    </tr>\n",
       "    <tr>\n",
       "      <th>0</th>\n",
       "      <td>LSTM</td>\n",
       "      <td>31.218733</td>\n",
       "    </tr>\n",
       "  </tbody>\n",
       "</table>\n",
       "</div>"
      ],
      "text/plain": [
       "                    model        MSE\n",
       "0                Cross NN  23.999500\n",
       "0              Simple RNN   2.903770\n",
       "0  Simple RNN more layers   2.092974\n",
       "0                    LSTM  31.218733"
      ]
     },
     "execution_count": 65,
     "metadata": {},
     "output_type": "execute_result"
    }
   ],
   "source": [
    "performance = pd.concat([performance, pd.DataFrame({'model':\"LSTM\", 'MSE' : lstm_1}, index =[0])])\n",
    "performance"
   ]
  },
  {
   "cell_type": "code",
   "execution_count": 66,
   "metadata": {},
   "outputs": [
    {
     "data": {
      "image/png": "[encoded data removed]",
      "text/plain": [
       "<Figure size 640x480 with 1 Axes>"
      ]
     },
     "metadata": {},
     "output_type": "display_data"
    }
   ],
   "source": [
    "plt.plot(comparison['actual'], label = 'actual')\n",
    "plt.plot(comparison['predicted'], label = 'predicted')\n",
    "\n",
    "plt.legend()\n",
    "\n",
    "plt.show()"
   ]
  },
  {
   "cell_type": "markdown",
   "metadata": {},
   "source": [
    "# LSTM with more layers"
   ]
  },
  {
   "cell_type": "code",
   "execution_count": 67,
   "metadata": {
    "scrolled": true
   },
   "outputs": [],
   "source": [
    "model = keras.models.Sequential([\n",
    "    keras.layers.LSTM(32, activation='tanh', return_sequences=True, input_shape=[9, 1]),\n",
    "    keras.layers.LSTM(32, activation='tanh', return_sequences=False),\n",
    "    keras.layers.Dense(1, activation=None)\n",
    "])"
   ]
  },
  {
   "cell_type": "code",
   "execution_count": 68,
   "metadata": {
    "scrolled": true
   },
   "outputs": [
    {
     "name": "stdout",
     "output_type": "stream",
     "text": [
      "Epoch 1/30\n",
      "1/1 [==============================] - 1s 1s/step - loss: 1.0448\n",
      "Epoch 2/30\n",
      "1/1 [==============================] - 0s 8ms/step - loss: 0.9877\n",
      "Epoch 3/30\n",
      "1/1 [==============================] - 0s 8ms/step - loss: 0.9330\n",
      "Epoch 4/30\n",
      "1/1 [==============================] - 0s 7ms/step - loss: 0.8803\n",
      "Epoch 5/30\n",
      "1/1 [==============================] - 0s 5ms/step - loss: 0.8291\n",
      "Epoch 6/30\n",
      "1/1 [==============================] - 0s 7ms/step - loss: 0.7793\n",
      "Epoch 7/30\n",
      "1/1 [==============================] - 0s 6ms/step - loss: 0.7304\n",
      "Epoch 8/30\n",
      "1/1 [==============================] - 0s 5ms/step - loss: 0.6824\n",
      "Epoch 9/30\n",
      "1/1 [==============================] - 0s 6ms/step - loss: 0.6350\n",
      "Epoch 10/30\n",
      "1/1 [==============================] - 0s 6ms/step - loss: 0.5883\n",
      "Epoch 11/30\n",
      "1/1 [==============================] - 0s 6ms/step - loss: 0.5423\n",
      "Epoch 12/30\n",
      "1/1 [==============================] - 0s 5ms/step - loss: 0.4971\n",
      "Epoch 13/30\n",
      "1/1 [==============================] - 0s 4ms/step - loss: 0.4530\n",
      "Epoch 14/30\n",
      "1/1 [==============================] - 0s 5ms/step - loss: 0.4106\n",
      "Epoch 15/30\n",
      "1/1 [==============================] - 0s 5ms/step - loss: 0.3703\n",
      "Epoch 16/30\n",
      "1/1 [==============================] - 0s 4ms/step - loss: 0.3330\n",
      "Epoch 17/30\n",
      "1/1 [==============================] - 0s 5ms/step - loss: 0.2996\n",
      "Epoch 18/30\n",
      "1/1 [==============================] - 0s 4ms/step - loss: 0.2710\n",
      "Epoch 19/30\n",
      "1/1 [==============================] - 0s 4ms/step - loss: 0.2484\n",
      "Epoch 20/30\n",
      "1/1 [==============================] - 0s 5ms/step - loss: 0.2327\n",
      "Epoch 21/30\n",
      "1/1 [==============================] - 0s 4ms/step - loss: 0.2240\n",
      "Epoch 22/30\n",
      "1/1 [==============================] - 0s 4ms/step - loss: 0.2217\n",
      "Epoch 23/30\n",
      "1/1 [==============================] - 0s 4ms/step - loss: 0.2233\n",
      "Epoch 24/30\n",
      "1/1 [==============================] - 0s 4ms/step - loss: 0.2258\n",
      "Epoch 25/30\n",
      "1/1 [==============================] - 0s 4ms/step - loss: 0.2268\n",
      "Epoch 26/30\n",
      "1/1 [==============================] - 0s 4ms/step - loss: 0.2249\n",
      "Epoch 27/30\n",
      "1/1 [==============================] - 0s 5ms/step - loss: 0.2198\n",
      "Epoch 28/30\n",
      "1/1 [==============================] - 0s 4ms/step - loss: 0.2122\n",
      "Epoch 29/30\n",
      "1/1 [==============================] - 0s 4ms/step - loss: 0.2029\n",
      "Epoch 30/30\n",
      "1/1 [==============================] - 0s 5ms/step - loss: 0.1930\n"
     ]
    }
   ],
   "source": [
    "np.random.seed(42)\n",
    "tf.random.set_seed(42)\n",
    "\n",
    "model.compile(loss=\"mse\", optimizer='Adam')\n",
    "\n",
    "history = model.fit(train_x, train_target, epochs=30)"
   ]
  },
  {
   "cell_type": "markdown",
   "metadata": {},
   "source": [
    "### Predictions"
   ]
  },
  {
   "cell_type": "code",
   "execution_count": 69,
   "metadata": {},
   "outputs": [
    {
     "name": "stdout",
     "output_type": "stream",
     "text": [
      "WARNING:tensorflow:5 out of the last 5 calls to <function Model.make_predict_function.<locals>.predict_function at 0x7fc4dae8a820> triggered tf.function retracing. Tracing is expensive and the excessive number of tracings could be due to (1) creating @tf.function repeatedly in a loop, (2) passing tensors with different shapes, (3) passing Python objects instead of tensors. For (1), please define your @tf.function outside of the loop. For (2), @tf.function has reduce_retracing=True option that can avoid unnecessary retracing. For (3), please refer to https://www.tensorflow.org/guide/function#controlling_retracing and https://www.tensorflow.org/api_docs/python/tf/function for  more details.\n",
      "1/1 [==============================] - 0s 331ms/step\n"
     ]
    }
   ],
   "source": [
    "#Predict:\n",
    "y_pred = model.predict(test_x)"
   ]
  },
  {
   "cell_type": "code",
   "execution_count": 70,
   "metadata": {},
   "outputs": [],
   "source": [
    "#Remember, these are standardized values. \n",
    "\n",
    "comparison = pd.DataFrame()\n",
    "\n",
    "comparison['actual'] = scaler.inverse_transform([test_target]).flatten()\n",
    "comparison['predicted'] = scaler.inverse_transform(y_pred).flatten()"
   ]
  },
  {
   "cell_type": "code",
   "execution_count": 71,
   "metadata": {},
   "outputs": [],
   "source": [
    "lstm = mean_squared_error(comparison['actual'], comparison['predicted'])"
   ]
  },
  {
   "cell_type": "code",
   "execution_count": 72,
   "metadata": {},
   "outputs": [
    {
     "data": {
      "text/html": [
       "<div>\n",
       "<style scoped>\n",
       "    .dataframe tbody tr th:only-of-type {\n",
       "        vertical-align: middle;\n",
       "    }\n",
       "\n",
       "    .dataframe tbody tr th {\n",
       "        vertical-align: top;\n",
       "    }\n",
       "\n",
       "    .dataframe thead th {\n",
       "        text-align: right;\n",
       "    }\n",
       "</style>\n",
       "<table border=\"1\" class=\"dataframe\">\n",
       "  <thead>\n",
       "    <tr style=\"text-align: right;\">\n",
       "      <th></th>\n",
       "      <th>model</th>\n",
       "      <th>MSE</th>\n",
       "    </tr>\n",
       "  </thead>\n",
       "  <tbody>\n",
       "    <tr>\n",
       "      <th>0</th>\n",
       "      <td>Cross NN</td>\n",
       "      <td>23.999500</td>\n",
       "    </tr>\n",
       "    <tr>\n",
       "      <th>0</th>\n",
       "      <td>Simple RNN</td>\n",
       "      <td>2.903770</td>\n",
       "    </tr>\n",
       "    <tr>\n",
       "      <th>0</th>\n",
       "      <td>Simple RNN more layers</td>\n",
       "      <td>2.092974</td>\n",
       "    </tr>\n",
       "    <tr>\n",
       "      <th>0</th>\n",
       "      <td>LSTM</td>\n",
       "      <td>31.218733</td>\n",
       "    </tr>\n",
       "    <tr>\n",
       "      <th>0</th>\n",
       "      <td>lstm more layers</td>\n",
       "      <td>21.323980</td>\n",
       "    </tr>\n",
       "  </tbody>\n",
       "</table>\n",
       "</div>"
      ],
      "text/plain": [
       "                    model        MSE\n",
       "0                Cross NN  23.999500\n",
       "0              Simple RNN   2.903770\n",
       "0  Simple RNN more layers   2.092974\n",
       "0                    LSTM  31.218733\n",
       "0        lstm more layers  21.323980"
      ]
     },
     "execution_count": 72,
     "metadata": {},
     "output_type": "execute_result"
    }
   ],
   "source": [
    "performance = pd.concat([performance, pd.DataFrame({'model':\"lstm more layers\", 'MSE' : lstm}, index =[0])])\n",
    "performance"
   ]
  },
  {
   "cell_type": "code",
   "execution_count": 73,
   "metadata": {},
   "outputs": [
    {
     "data": {
      "image/png": "[encoded data removed]",
      "text/plain": [
       "<Figure size 640x480 with 1 Axes>"
      ]
     },
     "metadata": {},
     "output_type": "display_data"
    }
   ],
   "source": [
    "plt.plot(comparison['actual'], label = 'actual')\n",
    "plt.plot(comparison['predicted'], label = 'predicted')\n",
    "\n",
    "plt.legend()\n",
    "\n",
    "plt.show()"
   ]
  },
  {
   "cell_type": "markdown",
   "metadata": {},
   "source": [
    "# GRU (with more layers)"
   ]
  },
  {
   "cell_type": "code",
   "execution_count": 74,
   "metadata": {},
   "outputs": [],
   "source": [
    "model = keras.models.Sequential([\n",
    "    keras.layers.GRU(32, activation='relu', return_sequences=True, input_shape=[9, 1]),\n",
    "    keras.layers.GRU(32, activation='relu', return_sequences=False),\n",
    "    keras.layers.Dense(1, activation=None)\n",
    "])"
   ]
  },
  {
   "cell_type": "code",
   "execution_count": 75,
   "metadata": {
    "scrolled": true
   },
   "outputs": [
    {
     "name": "stdout",
     "output_type": "stream",
     "text": [
      "Epoch 1/30\n",
      "1/1 [==============================] - 1s 936ms/step - loss: 1.0168\n",
      "Epoch 2/30\n",
      "1/1 [==============================] - 0s 5ms/step - loss: 0.9229\n",
      "Epoch 3/30\n",
      "1/1 [==============================] - 0s 7ms/step - loss: 0.8587\n",
      "Epoch 4/30\n",
      "1/1 [==============================] - 0s 6ms/step - loss: 0.8086\n",
      "Epoch 5/30\n",
      "1/1 [==============================] - 0s 6ms/step - loss: 0.7634\n",
      "Epoch 6/30\n",
      "1/1 [==============================] - 0s 6ms/step - loss: 0.7214\n",
      "Epoch 7/30\n",
      "1/1 [==============================] - 0s 5ms/step - loss: 0.6814\n",
      "Epoch 8/30\n",
      "1/1 [==============================] - 0s 7ms/step - loss: 0.6436\n",
      "Epoch 9/30\n",
      "1/1 [==============================] - 0s 5ms/step - loss: 0.6086\n",
      "Epoch 10/30\n",
      "1/1 [==============================] - 0s 5ms/step - loss: 0.5759\n",
      "Epoch 11/30\n",
      "1/1 [==============================] - 0s 5ms/step - loss: 0.5447\n",
      "Epoch 12/30\n",
      "1/1 [==============================] - 0s 4ms/step - loss: 0.5135\n",
      "Epoch 13/30\n",
      "1/1 [==============================] - 0s 5ms/step - loss: 0.4830\n",
      "Epoch 14/30\n",
      "1/1 [==============================] - 0s 4ms/step - loss: 0.4530\n",
      "Epoch 15/30\n",
      "1/1 [==============================] - 0s 4ms/step - loss: 0.4233\n",
      "Epoch 16/30\n",
      "1/1 [==============================] - 0s 5ms/step - loss: 0.3942\n",
      "Epoch 17/30\n",
      "1/1 [==============================] - 0s 4ms/step - loss: 0.3656\n",
      "Epoch 18/30\n",
      "1/1 [==============================] - 0s 4ms/step - loss: 0.3376\n",
      "Epoch 19/30\n",
      "1/1 [==============================] - 0s 5ms/step - loss: 0.3102\n",
      "Epoch 20/30\n",
      "1/1 [==============================] - 0s 5ms/step - loss: 0.2837\n",
      "Epoch 21/30\n",
      "1/1 [==============================] - 0s 4ms/step - loss: 0.2580\n",
      "Epoch 22/30\n",
      "1/1 [==============================] - 0s 4ms/step - loss: 0.2337\n",
      "Epoch 23/30\n",
      "1/1 [==============================] - 0s 4ms/step - loss: 0.2105\n",
      "Epoch 24/30\n",
      "1/1 [==============================] - 0s 4ms/step - loss: 0.1889\n",
      "Epoch 25/30\n",
      "1/1 [==============================] - 0s 4ms/step - loss: 0.1690\n",
      "Epoch 26/30\n",
      "1/1 [==============================] - 0s 4ms/step - loss: 0.1509\n",
      "Epoch 27/30\n",
      "1/1 [==============================] - 0s 4ms/step - loss: 0.1350\n",
      "Epoch 28/30\n",
      "1/1 [==============================] - 0s 4ms/step - loss: 0.1212\n",
      "Epoch 29/30\n",
      "1/1 [==============================] - 0s 4ms/step - loss: 0.1097\n",
      "Epoch 30/30\n",
      "1/1 [==============================] - 0s 4ms/step - loss: 0.1002\n"
     ]
    }
   ],
   "source": [
    "np.random.seed(42)\n",
    "tf.random.set_seed(42)\n",
    "\n",
    "model.compile(loss=\"mse\", optimizer='RMSprop')\n",
    "\n",
    "history = model.fit(train_x, train_target, epochs=30)"
   ]
  },
  {
   "cell_type": "markdown",
   "metadata": {},
   "source": [
    "### Predictions"
   ]
  },
  {
   "cell_type": "code",
   "execution_count": 76,
   "metadata": {},
   "outputs": [
    {
     "name": "stdout",
     "output_type": "stream",
     "text": [
      "WARNING:tensorflow:6 out of the last 6 calls to <function Model.make_predict_function.<locals>.predict_function at 0x7fc4c82fb550> triggered tf.function retracing. Tracing is expensive and the excessive number of tracings could be due to (1) creating @tf.function repeatedly in a loop, (2) passing tensors with different shapes, (3) passing Python objects instead of tensors. For (1), please define your @tf.function outside of the loop. For (2), @tf.function has reduce_retracing=True option that can avoid unnecessary retracing. For (3), please refer to https://www.tensorflow.org/guide/function#controlling_retracing and https://www.tensorflow.org/api_docs/python/tf/function for  more details.\n",
      "1/1 [==============================] - 0s 122ms/step\n"
     ]
    }
   ],
   "source": [
    "#Predict:\n",
    "y_pred = model.predict(test_x)"
   ]
  },
  {
   "cell_type": "code",
   "execution_count": 77,
   "metadata": {},
   "outputs": [],
   "source": [
    "#Remember, these are standardized values. \n",
    "\n",
    "comparison = pd.DataFrame()\n",
    "\n",
    "comparison['actual'] = scaler.inverse_transform([test_target]).flatten()\n",
    "comparison['predicted'] = scaler.inverse_transform(y_pred).flatten()"
   ]
  },
  {
   "cell_type": "code",
   "execution_count": 78,
   "metadata": {},
   "outputs": [],
   "source": [
    "gru_more = mean_squared_error(comparison['actual'], comparison['predicted'])"
   ]
  },
  {
   "cell_type": "code",
   "execution_count": 79,
   "metadata": {},
   "outputs": [
    {
     "data": {
      "text/html": [
       "<div>\n",
       "<style scoped>\n",
       "    .dataframe tbody tr th:only-of-type {\n",
       "        vertical-align: middle;\n",
       "    }\n",
       "\n",
       "    .dataframe tbody tr th {\n",
       "        vertical-align: top;\n",
       "    }\n",
       "\n",
       "    .dataframe thead th {\n",
       "        text-align: right;\n",
       "    }\n",
       "</style>\n",
       "<table border=\"1\" class=\"dataframe\">\n",
       "  <thead>\n",
       "    <tr style=\"text-align: right;\">\n",
       "      <th></th>\n",
       "      <th>model</th>\n",
       "      <th>MSE</th>\n",
       "    </tr>\n",
       "  </thead>\n",
       "  <tbody>\n",
       "    <tr>\n",
       "      <th>0</th>\n",
       "      <td>Cross NN</td>\n",
       "      <td>23.999500</td>\n",
       "    </tr>\n",
       "    <tr>\n",
       "      <th>0</th>\n",
       "      <td>Simple RNN</td>\n",
       "      <td>2.903770</td>\n",
       "    </tr>\n",
       "    <tr>\n",
       "      <th>0</th>\n",
       "      <td>Simple RNN more layers</td>\n",
       "      <td>2.092974</td>\n",
       "    </tr>\n",
       "    <tr>\n",
       "      <th>0</th>\n",
       "      <td>LSTM</td>\n",
       "      <td>31.218733</td>\n",
       "    </tr>\n",
       "    <tr>\n",
       "      <th>0</th>\n",
       "      <td>lstm more layers</td>\n",
       "      <td>21.323980</td>\n",
       "    </tr>\n",
       "    <tr>\n",
       "      <th>0</th>\n",
       "      <td>GRU more layers</td>\n",
       "      <td>5.534582</td>\n",
       "    </tr>\n",
       "  </tbody>\n",
       "</table>\n",
       "</div>"
      ],
      "text/plain": [
       "                    model        MSE\n",
       "0                Cross NN  23.999500\n",
       "0              Simple RNN   2.903770\n",
       "0  Simple RNN more layers   2.092974\n",
       "0                    LSTM  31.218733\n",
       "0        lstm more layers  21.323980\n",
       "0         GRU more layers   5.534582"
      ]
     },
     "execution_count": 79,
     "metadata": {},
     "output_type": "execute_result"
    }
   ],
   "source": [
    "performance = pd.concat([performance, pd.DataFrame({'model':\"GRU more layers\", 'MSE' : gru_more}, index =[0])])\n",
    "performance"
   ]
  },
  {
   "cell_type": "code",
   "execution_count": 80,
   "metadata": {},
   "outputs": [
    {
     "data": {
      "image/png": "[encoded data removed]",
      "text/plain": [
       "<Figure size 640x480 with 1 Axes>"
      ]
     },
     "metadata": {},
     "output_type": "display_data"
    }
   ],
   "source": [
    "plt.plot(comparison['actual'], label = 'actual')\n",
    "plt.plot(comparison['predicted'], label = 'predicted')\n",
    "\n",
    "plt.legend()\n",
    "\n",
    "plt.show()"
   ]
  },
  {
   "cell_type": "markdown",
   "metadata": {},
   "source": [
    "# Conv1D"
   ]
  },
  {
   "cell_type": "markdown",
   "metadata": {},
   "source": [
    "### Last Layer: GRU (you can change it to SimpleRNN or LSTM as well)"
   ]
  },
  {
   "cell_type": "code",
   "execution_count": 81,
   "metadata": {
    "scrolled": true
   },
   "outputs": [],
   "source": [
    "model = keras.models.Sequential([\n",
    "    keras.layers.Conv1D(filters=20, kernel_size=3, strides=1, padding=\"valid\", input_shape=[9, 1]),\n",
    "    keras.layers.GRU(32, activation='relu', return_sequences=True),\n",
    "    keras.layers.GRU(32, activation='relu', return_sequences=False),\n",
    "    keras.layers.Dense(1, activation=None)\n",
    "])"
   ]
  },
  {
   "cell_type": "code",
   "execution_count": 82,
   "metadata": {
    "scrolled": true
   },
   "outputs": [
    {
     "name": "stdout",
     "output_type": "stream",
     "text": [
      "Epoch 1/30\n",
      "1/1 [==============================] - 1s 1s/step - loss: 0.9532\n",
      "Epoch 2/30\n",
      "1/1 [==============================] - 0s 6ms/step - loss: 0.9193\n",
      "Epoch 3/30\n",
      "1/1 [==============================] - 0s 4ms/step - loss: 0.8864\n",
      "Epoch 4/30\n",
      "1/1 [==============================] - 0s 4ms/step - loss: 0.8558\n",
      "Epoch 5/30\n",
      "1/1 [==============================] - 0s 6ms/step - loss: 0.8245\n",
      "Epoch 6/30\n",
      "1/1 [==============================] - 0s 6ms/step - loss: 0.7926\n",
      "Epoch 7/30\n",
      "1/1 [==============================] - 0s 6ms/step - loss: 0.7596\n",
      "Epoch 8/30\n",
      "1/1 [==============================] - 0s 6ms/step - loss: 0.7264\n",
      "Epoch 9/30\n",
      "1/1 [==============================] - 0s 6ms/step - loss: 0.6921\n",
      "Epoch 10/30\n",
      "1/1 [==============================] - 0s 5ms/step - loss: 0.6561\n",
      "Epoch 11/30\n",
      "1/1 [==============================] - 0s 6ms/step - loss: 0.6188\n",
      "Epoch 12/30\n",
      "1/1 [==============================] - 0s 5ms/step - loss: 0.5803\n",
      "Epoch 13/30\n",
      "1/1 [==============================] - 0s 6ms/step - loss: 0.5407\n",
      "Epoch 14/30\n",
      "1/1 [==============================] - 0s 5ms/step - loss: 0.5001\n",
      "Epoch 15/30\n",
      "1/1 [==============================] - 0s 4ms/step - loss: 0.4586\n",
      "Epoch 16/30\n",
      "1/1 [==============================] - 0s 5ms/step - loss: 0.4167\n",
      "Epoch 17/30\n",
      "1/1 [==============================] - 0s 4ms/step - loss: 0.3744\n",
      "Epoch 18/30\n",
      "1/1 [==============================] - 0s 4ms/step - loss: 0.3323\n",
      "Epoch 19/30\n",
      "1/1 [==============================] - 0s 4ms/step - loss: 0.2909\n",
      "Epoch 20/30\n",
      "1/1 [==============================] - 0s 4ms/step - loss: 0.2511\n",
      "Epoch 21/30\n",
      "1/1 [==============================] - 0s 4ms/step - loss: 0.2137\n",
      "Epoch 22/30\n",
      "1/1 [==============================] - 0s 4ms/step - loss: 0.1798\n",
      "Epoch 23/30\n",
      "1/1 [==============================] - 0s 4ms/step - loss: 0.1505\n",
      "Epoch 24/30\n",
      "1/1 [==============================] - 0s 4ms/step - loss: 0.1272\n",
      "Epoch 25/30\n",
      "1/1 [==============================] - 0s 4ms/step - loss: 0.1111\n",
      "Epoch 26/30\n",
      "1/1 [==============================] - 0s 4ms/step - loss: 0.1030\n",
      "Epoch 27/30\n",
      "1/1 [==============================] - 0s 4ms/step - loss: 0.1029\n",
      "Epoch 28/30\n",
      "1/1 [==============================] - 0s 4ms/step - loss: 0.1094\n",
      "Epoch 29/30\n",
      "1/1 [==============================] - 0s 4ms/step - loss: 0.1197\n",
      "Epoch 30/30\n",
      "1/1 [==============================] - 0s 4ms/step - loss: 0.1293\n"
     ]
    }
   ],
   "source": [
    "np.random.seed(42)\n",
    "tf.random.set_seed(42)\n",
    "\n",
    "model.compile(loss=\"mse\", optimizer='Adam')\n",
    "\n",
    "history = model.fit(train_x, train_target, epochs=30)"
   ]
  },
  {
   "cell_type": "markdown",
   "metadata": {},
   "source": [
    "### Predictions"
   ]
  },
  {
   "cell_type": "code",
   "execution_count": 83,
   "metadata": {},
   "outputs": [
    {
     "name": "stdout",
     "output_type": "stream",
     "text": [
      "1/1 [==============================] - 0s 126ms/step\n"
     ]
    }
   ],
   "source": [
    "#Predict:\n",
    "y_pred = model.predict(test_x)"
   ]
  },
  {
   "cell_type": "code",
   "execution_count": 84,
   "metadata": {},
   "outputs": [],
   "source": [
    "#Remember, these are standardized values. \n",
    "\n",
    "comparison = pd.DataFrame()\n",
    "\n",
    "comparison['actual'] = scaler.inverse_transform([test_target]).flatten()\n",
    "comparison['predicted'] = scaler.inverse_transform(y_pred).flatten()"
   ]
  },
  {
   "cell_type": "code",
   "execution_count": 85,
   "metadata": {},
   "outputs": [],
   "source": [
    "conv1d = mean_squared_error(comparison['actual'], comparison['predicted'])"
   ]
  },
  {
   "cell_type": "code",
   "execution_count": 86,
   "metadata": {},
   "outputs": [
    {
     "data": {
      "text/html": [
       "<div>\n",
       "<style scoped>\n",
       "    .dataframe tbody tr th:only-of-type {\n",
       "        vertical-align: middle;\n",
       "    }\n",
       "\n",
       "    .dataframe tbody tr th {\n",
       "        vertical-align: top;\n",
       "    }\n",
       "\n",
       "    .dataframe thead th {\n",
       "        text-align: right;\n",
       "    }\n",
       "</style>\n",
       "<table border=\"1\" class=\"dataframe\">\n",
       "  <thead>\n",
       "    <tr style=\"text-align: right;\">\n",
       "      <th></th>\n",
       "      <th>model</th>\n",
       "      <th>MSE</th>\n",
       "    </tr>\n",
       "  </thead>\n",
       "  <tbody>\n",
       "    <tr>\n",
       "      <th>0</th>\n",
       "      <td>Cross NN</td>\n",
       "      <td>23.999500</td>\n",
       "    </tr>\n",
       "    <tr>\n",
       "      <th>0</th>\n",
       "      <td>Simple RNN</td>\n",
       "      <td>2.903770</td>\n",
       "    </tr>\n",
       "    <tr>\n",
       "      <th>0</th>\n",
       "      <td>Simple RNN more layers</td>\n",
       "      <td>2.092974</td>\n",
       "    </tr>\n",
       "    <tr>\n",
       "      <th>0</th>\n",
       "      <td>LSTM</td>\n",
       "      <td>31.218733</td>\n",
       "    </tr>\n",
       "    <tr>\n",
       "      <th>0</th>\n",
       "      <td>lstm more layers</td>\n",
       "      <td>21.323980</td>\n",
       "    </tr>\n",
       "    <tr>\n",
       "      <th>0</th>\n",
       "      <td>GRU more layers</td>\n",
       "      <td>5.534582</td>\n",
       "    </tr>\n",
       "    <tr>\n",
       "      <th>0</th>\n",
       "      <td>conv1D</td>\n",
       "      <td>5.140845</td>\n",
       "    </tr>\n",
       "  </tbody>\n",
       "</table>\n",
       "</div>"
      ],
      "text/plain": [
       "                    model        MSE\n",
       "0                Cross NN  23.999500\n",
       "0              Simple RNN   2.903770\n",
       "0  Simple RNN more layers   2.092974\n",
       "0                    LSTM  31.218733\n",
       "0        lstm more layers  21.323980\n",
       "0         GRU more layers   5.534582\n",
       "0                  conv1D   5.140845"
      ]
     },
     "execution_count": 86,
     "metadata": {},
     "output_type": "execute_result"
    }
   ],
   "source": [
    "performance = pd.concat([performance, pd.DataFrame({'model':\"conv1D\", 'MSE' : conv1d}, index =[0])])\n",
    "performance"
   ]
  },
  {
   "cell_type": "code",
   "execution_count": 87,
   "metadata": {},
   "outputs": [
    {
     "data": {
      "text/html": [
       "<div>\n",
       "<style scoped>\n",
       "    .dataframe tbody tr th:only-of-type {\n",
       "        vertical-align: middle;\n",
       "    }\n",
       "\n",
       "    .dataframe tbody tr th {\n",
       "        vertical-align: top;\n",
       "    }\n",
       "\n",
       "    .dataframe thead th {\n",
       "        text-align: right;\n",
       "    }\n",
       "</style>\n",
       "<table border=\"1\" class=\"dataframe\">\n",
       "  <thead>\n",
       "    <tr style=\"text-align: right;\">\n",
       "      <th></th>\n",
       "      <th>model</th>\n",
       "      <th>MSE</th>\n",
       "    </tr>\n",
       "  </thead>\n",
       "  <tbody>\n",
       "    <tr>\n",
       "      <th>0</th>\n",
       "      <td>Simple RNN more layers</td>\n",
       "      <td>2.092974</td>\n",
       "    </tr>\n",
       "    <tr>\n",
       "      <th>0</th>\n",
       "      <td>Simple RNN</td>\n",
       "      <td>2.903770</td>\n",
       "    </tr>\n",
       "    <tr>\n",
       "      <th>0</th>\n",
       "      <td>conv1D</td>\n",
       "      <td>5.140845</td>\n",
       "    </tr>\n",
       "    <tr>\n",
       "      <th>0</th>\n",
       "      <td>GRU more layers</td>\n",
       "      <td>5.534582</td>\n",
       "    </tr>\n",
       "    <tr>\n",
       "      <th>0</th>\n",
       "      <td>lstm more layers</td>\n",
       "      <td>21.323980</td>\n",
       "    </tr>\n",
       "    <tr>\n",
       "      <th>0</th>\n",
       "      <td>Cross NN</td>\n",
       "      <td>23.999500</td>\n",
       "    </tr>\n",
       "    <tr>\n",
       "      <th>0</th>\n",
       "      <td>LSTM</td>\n",
       "      <td>31.218733</td>\n",
       "    </tr>\n",
       "  </tbody>\n",
       "</table>\n",
       "</div>"
      ],
      "text/plain": [
       "                    model        MSE\n",
       "0  Simple RNN more layers   2.092974\n",
       "0              Simple RNN   2.903770\n",
       "0                  conv1D   5.140845\n",
       "0         GRU more layers   5.534582\n",
       "0        lstm more layers  21.323980\n",
       "0                Cross NN  23.999500\n",
       "0                    LSTM  31.218733"
      ]
     },
     "execution_count": 87,
     "metadata": {},
     "output_type": "execute_result"
    }
   ],
   "source": [
    "performance.sort_values(by='MSE')"
   ]
  },
  {
   "cell_type": "markdown",
   "metadata": {},
   "source": [
    "## Analysis\n",
    "\n",
    "Firstly, the above results are related to several models that were most likely used to analyze Amazon's stock market data. The models list include Simple RNN, GRU, LSTM, Conv1D, and Cross NN.\n",
    "\n",
    "Here we have used the metric \"MSE - Mean Squared Error\" and it calculates the average of the squared differences between expected and actual values in a dataset. A lower MSE suggests that the model is more accurate in predicting results.\n",
    "\n",
    "According to the results, the \"Simple RNN more layers\" model had the lowest MSE score of 2.09, closely next by the \"Simple RNN\" model, which had an MSE score of 2.90. The \"Conv1D\" and \"GRU more layers\" models had slightly higher MSE scores of 5.14 and 5.53, respectively, indicating that they were less accurate in making predictions. \n"
   ]
  }
 ],
 "metadata": {
  "kernelspec": {
   "display_name": "Python 3 (ipykernel)",
   "language": "python",
   "name": "python3"
  },
  "language_info": {
   "codemirror_mode": {
    "name": "ipython",
    "version": 3
   },
   "file_extension": ".py",
   "mimetype": "text/x-python",
   "name": "python",
   "nbconvert_exporter": "python",
   "pygments_lexer": "ipython3",
   "version": "3.9.13"
  },
  "nav_menu": {},
  "toc": {
   "base_numbering": 1,
   "nav_menu": {},
   "number_sections": false,
   "sideBar": true,
   "skip_h1_title": false,
   "title_cell": "Table of Contents",
   "title_sidebar": "Contents",
   "toc_cell": false,
   "toc_position": {},
   "toc_section_display": "block",
   "toc_window_display": false
  },
  "varInspector": {
   "cols": {
    "lenName": 16,
    "lenType": 16,
    "lenVar": 40
   },
   "kernels_config": {
    "python": {
     "delete_cmd_postfix": "",
     "delete_cmd_prefix": "del ",
     "library": "var_list.py",
     "varRefreshCmd": "print(var_dic_list())"
    },
    "r": {
     "delete_cmd_postfix": ") ",
     "delete_cmd_prefix": "rm(",
     "library": "var_list.r",
     "varRefreshCmd": "cat(var_dic_list()) "
    }
   },
   "types_to_exclude": [
    "module",
    "function",
    "builtin_function_or_method",
    "instance",
    "_Feature"
   ],
   "window_display": false
  }
 },
 "nbformat": 4,
 "nbformat_minor": 4
}
